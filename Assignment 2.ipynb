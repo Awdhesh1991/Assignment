{
 "cells": [
  {
   "cell_type": "markdown",
   "id": "6b959e58-0c0d-419b-b749-982470082671",
   "metadata": {},
   "source": [
    "1.What are the two values of the Boolean data type? How do you write them?"
   ]
  },
  {
   "cell_type": "markdown",
   "id": "8b59d45a-718c-49f2-8148-3d2aec48d9fd",
   "metadata": {},
   "source": [
    "The two values of the boolean data type is 'True' and 'False'"
   ]
  },
  {
   "cell_type": "markdown",
   "id": "d4b6b569-f66a-4a73-8c64-c9b6015b685c",
   "metadata": {},
   "source": [
    "2. What are the three different types of Boolean operators?"
   ]
  },
  {
   "cell_type": "markdown",
   "id": "981d2fd3-4c60-4e19-88a0-d3a045603ea5",
   "metadata": {},
   "source": [
    "The three types of boolean operators is\n",
    "AND Operators\n",
    "OR Operators\n",
    "NOT Operators"
   ]
  },
  {
   "cell_type": "markdown",
   "id": "08733972-576f-42ee-a97e-098a725f26e7",
   "metadata": {},
   "source": [
    "3. Make a list of each Boolean operator's truth tables (i.e. every possible combination of Boolean values for the operator and what it evaluate )."
   ]
  },
  {
   "cell_type": "markdown",
   "id": "8ad5cd54-7e30-4799-ac4b-dbba157b0bf5",
   "metadata": {},
   "source": [
    "AND Operator (&):\n",
    "Operand 1\tOperand 2\tResult\n",
    "false\t     false\t    false\n",
    "false\t     true\t    false\n",
    "true\t     false\t    false\n",
    "true\t     true\t    true\n",
    "\n"
   ]
  },
  {
   "cell_type": "markdown",
   "id": "320cdefe-9f7e-469f-a95e-6f3bf2b6a2a6",
   "metadata": {},
   "source": [
    "OR Operator (||):\n",
    "Operand 1\tOperand 2\t    Result\n",
    "false\t     false\t        false\n",
    "false\t     true\t        true\n",
    "true\t     false\t        true\n",
    "true\t     true\t        true"
   ]
  },
  {
   "cell_type": "markdown",
   "id": "72e528b0-ae30-4b48-8195-4806f791fef6",
   "metadata": {},
   "source": [
    "NOT Operator (!):\n",
    "Operand  \tResult\n",
    "false\t    true\n",
    "true\t    false"
   ]
  },
  {
   "cell_type": "markdown",
   "id": "522026e4-8486-470c-9596-e5c5c705a0da",
   "metadata": {},
   "source": [
    "4. What are the values of the following expressions?\n",
    "    1. (5 > 4) and (3 == 5)\n",
    "    2. not (5 > 4)\n",
    "    3. (5 > 4) or (3 == 5)\n",
    "    4. not ((5 > 4) or (3 == 5))\n",
    "    5. (True and True) and (True == False)\n",
    "    6. (not False) or (not True)\n"
   ]
  },
  {
   "cell_type": "markdown",
   "id": "532bb299-0bba-489b-8641-88726b70350a",
   "metadata": {},
   "source": [
    "1. False\n",
    "2. False\n",
    "3. True\n",
    "4. False\n",
    "5. False\n",
    "6. True"
   ]
  },
  {
   "cell_type": "markdown",
   "id": "20e6f959-ac35-4a07-b6c1-6303a8f9682f",
   "metadata": {},
   "source": [
    "5. What are the six comparison operators?"
   ]
  },
  {
   "cell_type": "markdown",
   "id": "debb0e53-ccf2-4bbe-a32e-e9cce4d7d085",
   "metadata": {},
   "source": [
    "1. Equal to (==): Compares if two values are equal.\n",
    "2. Not equal to (!=):\n",
    "3. Greater than (>): \n",
    "4. Greater than or equal to (>=):\n",
    "5. Less than (<): \n",
    "6. Less than or equal to (<=):\n"
   ]
  },
  {
   "cell_type": "markdown",
   "id": "267dc1f9-b6c7-42aa-8f50-09e304335528",
   "metadata": {},
   "source": [
    "6. How do you tell the difference between the equal to and assignzment operators?Describe a condition and when you would use one."
   ]
  },
  {
   "cell_type": "markdown",
   "id": "fdae26f7-d954-4349-9f57-14712ae14b4e",
   "metadata": {},
   "source": [
    "Equal to Operator (==):\n",
    "\n",
    "   1- The equal to operator is used for comparison.\n",
    "   2- It evaluate afterr two values are equal.\n",
    "   3- It returns true if the values on both sides of the operator are equal, and false otherwise."
   ]
  },
  {
   "cell_type": "markdown",
   "id": "d5742389-ef39-43dd-963a-bfeb15686aa8",
   "metadata": {},
   "source": [
    "Assignment Operator (=):\n",
    "\n",
    "    1- The assignment operator is used for assigning a value to a variable."
   ]
  },
  {
   "cell_type": "code",
   "execution_count": 1,
   "id": "48a71ad2-a357-41e7-a233-706c2b926b3a",
   "metadata": {},
   "outputs": [
    {
     "name": "stdout",
     "output_type": "stream",
     "text": [
      "x is equal to 10\n"
     ]
    }
   ],
   "source": [
    "x = 10\n",
    "if x == 10:\n",
    "    print(\"x is equal to 10\")\n",
    "else:\n",
    "    print(\"x is not equal to 10\")\n"
   ]
  },
  {
   "cell_type": "markdown",
   "id": "47398444-5dc2-4eef-85b4-f2ac73293ef9",
   "metadata": {},
   "source": [
    "The = operator is used to assign the value 10 to the variable x.\n",
    "The == operator is used to compare if the value of x is equal to 10."
   ]
  },
  {
   "cell_type": "markdown",
   "id": "e1abe5ab-6e41-4da5-ba39-14b58e7b4d33",
   "metadata": {},
   "source": [
    "7. Identify the three blocks in this code:\n",
    "spam = 0\n",
    "if spam == 10:\n",
    "print('eggs')\n",
    "if spam > 5:\n",
    "print('bacon')\n",
    "else:\n",
    "print('ham')\n",
    "print('spam')\n",
    "print('spam')\n"
   ]
  },
  {
   "cell_type": "code",
   "execution_count": 6,
   "id": "1659abed-66bf-43a5-b900-0fa7bceb7e91",
   "metadata": {},
   "outputs": [],
   "source": [
    "spam = 0\n",
    "if spam == 10:\n",
    "    print('eggs')\n"
   ]
  },
  {
   "cell_type": "code",
   "execution_count": 5,
   "id": "34bc5e74-a5dc-4132-9e11-0fb25884a0ab",
   "metadata": {},
   "outputs": [
    {
     "name": "stdout",
     "output_type": "stream",
     "text": [
      "ham\n"
     ]
    }
   ],
   "source": [
    "if spam > 5:\n",
    "    print('bacon')\n",
    "else:\n",
    "    print('ham')\n"
   ]
  },
  {
   "cell_type": "code",
   "execution_count": 7,
   "id": "23e71158-0ee6-48d2-87bb-8b8cb35d2fbf",
   "metadata": {},
   "outputs": [
    {
     "name": "stdout",
     "output_type": "stream",
     "text": [
      "spam\n",
      "spam\n"
     ]
    }
   ],
   "source": [
    "print('spam')\n",
    "print('spam')\n"
   ]
  },
  {
   "cell_type": "markdown",
   "id": "2f711381-61c2-4ee7-88d4-293d4369acf6",
   "metadata": {},
   "source": [
    "8. Write code that prints Hello if 1 is stored in spam, prints Howdy if 2 is stored in spam, and prints Greetings! if anything else is stored in spam."
   ]
  },
  {
   "cell_type": "code",
   "execution_count": 10,
   "id": "aa3a0a37-e4f2-4d80-8a86-3e36c44ed3b1",
   "metadata": {},
   "outputs": [
    {
     "name": "stdin",
     "output_type": "stream",
     "text": [
      "Enter a value for spam:  3\n"
     ]
    },
    {
     "name": "stdout",
     "output_type": "stream",
     "text": [
      "Greetings!\n"
     ]
    }
   ],
   "source": [
    "spam = int(input(\"Enter a value for spam: \"))\n",
    "\n",
    "if spam == 1:\n",
    "    print(\"Hello\")\n",
    "elif spam == 2:\n",
    "    print(\"Howdy\")\n",
    "else:\n",
    "    print(\"Greetings!\")\n"
   ]
  },
  {
   "cell_type": "markdown",
   "id": "b34e0659-bca3-47f5-a842-4a36cf57d2c1",
   "metadata": {},
   "source": [
    "9.If your programme is stuck in an endless loop, what keys you’ll press?"
   ]
  },
  {
   "cell_type": "markdown",
   "id": "2b5a81cf-2a60-424a-a5e3-02bdace73d5a",
   "metadata": {},
   "source": [
    "ctrl+c"
   ]
  },
  {
   "cell_type": "markdown",
   "id": "488f4d70-8b6c-45f0-8f37-d683e99daaf1",
   "metadata": {},
   "source": [
    "10. How can you tell the difference between break and continue?"
   ]
  },
  {
   "cell_type": "code",
   "execution_count": 11,
   "id": "133912f7-c53b-4436-827f-e6ca4a90e0fd",
   "metadata": {},
   "outputs": [
    {
     "name": "stdout",
     "output_type": "stream",
     "text": [
      "0\n",
      "1\n",
      "2\n"
     ]
    }
   ],
   "source": [
    "# break\n",
    "for i in range(5):\n",
    "    if i == 3:\n",
    "        break\n",
    "    print(i)\n"
   ]
  },
  {
   "cell_type": "code",
   "execution_count": 12,
   "id": "d8fd287e-c3d2-4322-980a-bf891b7e2ccb",
   "metadata": {},
   "outputs": [
    {
     "name": "stdout",
     "output_type": "stream",
     "text": [
      "0\n",
      "1\n",
      "3\n",
      "4\n"
     ]
    }
   ],
   "source": [
    "# continue\n",
    "for i in range(5):\n",
    "    if i == 2:\n",
    "        continue\n",
    "    print(i)\n"
   ]
  },
  {
   "cell_type": "markdown",
   "id": "7c90f3fa-37b9-4746-aa6f-1cefbc5c96e3",
   "metadata": {},
   "source": [
    "11. In a for loop, what is the difference between range(10), range(0, 10), and range(0, 10, 1)?"
   ]
  },
  {
   "cell_type": "code",
   "execution_count": 13,
   "id": "a5d7e434-5f89-4e9c-8bc5-c781bb578744",
   "metadata": {},
   "outputs": [
    {
     "name": "stdout",
     "output_type": "stream",
     "text": [
      "0\n",
      "1\n",
      "2\n",
      "3\n",
      "4\n",
      "5\n",
      "6\n",
      "7\n",
      "8\n",
      "9\n"
     ]
    }
   ],
   "source": [
    "for i in range(10):\n",
    "    print(i)\n"
   ]
  },
  {
   "cell_type": "code",
   "execution_count": 14,
   "id": "e67dab1d-40d6-49b8-bd3b-925f31a45278",
   "metadata": {},
   "outputs": [
    {
     "name": "stdout",
     "output_type": "stream",
     "text": [
      "0\n",
      "1\n",
      "2\n",
      "3\n",
      "4\n",
      "5\n",
      "6\n",
      "7\n",
      "8\n",
      "9\n"
     ]
    }
   ],
   "source": [
    "for i in range(0, 10):\n",
    "    print(i)\n"
   ]
  },
  {
   "cell_type": "code",
   "execution_count": 15,
   "id": "3e230583-3d9a-453d-a625-62132d5c7c26",
   "metadata": {},
   "outputs": [
    {
     "name": "stdout",
     "output_type": "stream",
     "text": [
      "0\n",
      "1\n",
      "2\n",
      "3\n",
      "4\n",
      "5\n",
      "6\n",
      "7\n",
      "8\n",
      "9\n"
     ]
    }
   ],
   "source": [
    "for i in range(0, 10, 1):\n",
    "    print(i)\n"
   ]
  },
  {
   "cell_type": "markdown",
   "id": "74a1da46-5690-4178-90cc-168496c70437",
   "metadata": {},
   "source": [
    "12. Write a short program that prints the numbers 1 to 10 using a for loop. \n",
    "    Then write an equivalent program that prints the numbers 1 to 10 using a while loop."
   ]
  },
  {
   "cell_type": "code",
   "execution_count": 16,
   "id": "6cd2e5c7-e31b-46ec-94d6-a855bf1683a6",
   "metadata": {},
   "outputs": [
    {
     "name": "stdout",
     "output_type": "stream",
     "text": [
      "1\n",
      "2\n",
      "3\n",
      "4\n",
      "5\n",
      "6\n",
      "7\n",
      "8\n",
      "9\n",
      "10\n"
     ]
    }
   ],
   "source": [
    "# Using a for loop\n",
    "for i in range(1, 11):\n",
    "    print(i)\n"
   ]
  },
  {
   "cell_type": "code",
   "execution_count": 17,
   "id": "2ccd2c67-72e6-42d4-be7a-cb9518688b9b",
   "metadata": {},
   "outputs": [
    {
     "name": "stdout",
     "output_type": "stream",
     "text": [
      "1\n",
      "2\n",
      "3\n",
      "4\n",
      "5\n",
      "6\n",
      "7\n",
      "8\n",
      "9\n",
      "10\n"
     ]
    }
   ],
   "source": [
    "# Using a while loop\n",
    "i = 1\n",
    "while i <= 10:\n",
    "    print(i)\n",
    "    i += 1\n"
   ]
  },
  {
   "cell_type": "markdown",
   "id": "dafee6fc-d48b-42cc-a986-66887f568fda",
   "metadata": {},
   "source": [
    "13. If you had a function named bacon() inside a module named spam, how would you call it after importing spam?"
   ]
  },
  {
   "cell_type": "code",
   "execution_count": null,
   "id": "450961b4-c9bb-43a3-bbd8-de1de8169ec8",
   "metadata": {},
   "outputs": [],
   "source": [
    "import spam\n",
    "\n",
    "spam.bacon()\n"
   ]
  }
 ],
 "metadata": {
  "kernelspec": {
   "display_name": "Python 3 (ipykernel)",
   "language": "python",
   "name": "python3"
  },
  "language_info": {
   "codemirror_mode": {
    "name": "ipython",
    "version": 3
   },
   "file_extension": ".py",
   "mimetype": "text/x-python",
   "name": "python",
   "nbconvert_exporter": "python",
   "pygments_lexer": "ipython3",
   "version": "3.11.7"
  }
 },
 "nbformat": 4,
 "nbformat_minor": 5
}

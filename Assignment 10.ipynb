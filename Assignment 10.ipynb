{
 "cells": [
  {
   "cell_type": "markdown",
   "id": "c7d80f80-36a6-4301-ac0b-bcd0a03d86d5",
   "metadata": {},
   "source": [
    "# 1. How do you distinguish between shutil.copy() and shutil.copytree()?"
   ]
  },
  {
   "cell_type": "markdown",
   "id": "20e8a92f-a5a4-4c00-9676-61c944ae10cc",
   "metadata": {},
   "source": [
    "While shutil. copy() will copy a single file, shutil. copytree() will copy an entire folder \n",
    "and every folder and file contained in it."
   ]
  },
  {
   "cell_type": "markdown",
   "id": "fd59eb45-1b8c-4f98-acf1-358545e7db74",
   "metadata": {},
   "source": [
    "\"shutil.copy(src, dst)\": This function is used to copy a single file from the src (source) \n",
    "path to the dst (destination) path. It copies the content of the source file to the \n",
    "destination file. If the destination file already exists, it will be overwritten.\n",
    "\n",
    "import shutil\r\n",
    "\r\n",
    "# Copy a file from source to destination\r\n",
    "shutil.copy('source_file.txt', 'destination_file.txt')\r\n"
   ]
  },
  {
   "cell_type": "markdown",
   "id": "34357412-1a33-4ca6-a82b-4b8f031fe0e6",
   "metadata": {},
   "source": [
    "\"shutil.copytree(src, dst)\": This function is used to recursively copy an entire directory \n",
    "tree from the src directory to the dst directory. It copies the directory structure along \n",
    "with all files and subdirectories contained within the source directory. If the destination \n",
    "directory already exists, it will raise an error unless the dirs_exist_ok parameter is set to True.\n",
    "\n",
    "import shutil\n",
    "\n",
    "# Recursively copy a directory tree from source to destination\n",
    "shutil.copytree('source_directory', 'destination_directory')\n"
   ]
  },
  {
   "cell_type": "markdown",
   "id": "dc1549f4-8efc-4477-81f1-643d8b62a464",
   "metadata": {},
   "source": [
    "\"Use shutil.copy()\" to copy individual files.\n",
    "\"Use shutil.copytree()\" to copy entire directory trees, including all files and subdirectories."
   ]
  },
  {
   "cell_type": "markdown",
   "id": "cacf0613-0a9a-48ab-b4b9-ae6aeecdcda4",
   "metadata": {},
   "source": [
    "# 2. What function is used to rename files??"
   ]
  },
  {
   "cell_type": "markdown",
   "id": "65265208-2b93-4bb9-acc1-7a3bb252c561",
   "metadata": {},
   "source": [
    "In Python, the \"os.rename()\" function is used to rename files and directories."
   ]
  },
  {
   "cell_type": "markdown",
   "id": "32ec4c79-a0b7-4185-80a4-899e6b0b68de",
   "metadata": {},
   "source": [
    "import os\n",
    "\n",
    "# Rename a file\n",
    "os.rename('old_filename.txt', 'new_filename.txt')\n"
   ]
  },
  {
   "cell_type": "markdown",
   "id": "26ff5a7f-d802-404f-892b-c5ece5a77837",
   "metadata": {},
   "source": [
    "# 3. What is the difference between the delete functions in the send2trash and shutil modules?"
   ]
  },
  {
   "cell_type": "markdown",
   "id": "5f41ae22-a2e2-48e6-bbf0-0f84580b0252",
   "metadata": {},
   "source": [
    "The send2trash functions will move a file or folder to the recycle bin, \n",
    "while shutil functions will permanently delete files and folders."
   ]
  },
  {
   "cell_type": "markdown",
   "id": "8d32e73e-c2b3-4cd4-90d8-816dcc0e2b95",
   "metadata": {},
   "source": [
    "# 4.ZipFile objects have a close() method just like File objects’ close() method. What ZipFile method is equivalent to File objects’ open() method?"
   ]
  },
  {
   "cell_type": "markdown",
   "id": "4fab3470-1015-4211-9906-d17d21dbc367",
   "metadata": {},
   "source": [
    "The equivalent method to File objects' \"open()\" method for ZipFile objects is zipfile.ZipFile()."
   ]
  },
  {
   "cell_type": "markdown",
   "id": "f68e05b7-d8b1-4fe1-8f89-c7e52f4b8be0",
   "metadata": {},
   "source": [
    "Just like \"open()\" is used to open files for reading, writing, or appending, \"zipfile.ZipFile()\" \n",
    "is used to open ZIP archive files for various operations such as reading, writing, and appending."
   ]
  },
  {
   "cell_type": "markdown",
   "id": "fd564f6c-54c9-4026-ab2d-e2d1d57c43b9",
   "metadata": {},
   "source": [
    "Here's how you can use \"zipfile.ZipFile()\" to open a ZIP archive file:\n",
    "\n",
    "import zipfile\r\n",
    "\r\n",
    "# Open a ZIP file for reading\r\n",
    "with zipfile.ZipFile('example.zip', 'r') as zip_file:\r\n",
    "    # Perform operations on the ZIP archive\r\n",
    "    # For example, extract files, list contents, etc.\r\n"
   ]
  },
  {
   "cell_type": "markdown",
   "id": "eb905098-6277-49d2-8b84-5ae56d071f59",
   "metadata": {},
   "source": [
    "In this example, 'example.zip' is the name of the ZIP archive file to be opened for reading ('r'). \n",
    "Similarly, you can use 'w' for writing or 'a' for appending."
   ]
  },
  {
   "cell_type": "markdown",
   "id": "924b3030-f48f-4642-b3c3-7c580adb0bfe",
   "metadata": {},
   "source": [
    "# 5. Create a programme that searches a folder tree for files with a certain file extension (such as .pdf or .jpg). Copy these files from whatever location they are in to a new folder."
   ]
  },
  {
   "cell_type": "markdown",
   "id": "95eb0e13-b38b-4c46-a9f6-9fdfc1c511b7",
   "metadata": {},
   "source": [
    "You can achieve this task using Python's os and shutil modules to traverse the folder tree, \n",
    "search for files with a specific extension, and copy them to a new folder."
   ]
  },
  {
   "cell_type": "code",
   "execution_count": null,
   "id": "e82f2b70-c798-47a6-b428-6f94b2bc84ec",
   "metadata": {},
   "outputs": [],
   "source": [
    "import os\n",
    "import shutil\n",
    "\n",
    "def search_and_copy_files(source_folder, target_folder, extension):\n",
    "    # Create the target folder if it doesn't exist\n",
    "    if not os.path.exists(target_folder):\n",
    "        os.makedirs(target_folder)\n",
    "\n",
    "    # Traverse the folder tree\n",
    "    for foldername, subfolders, filenames in os.walk(source_folder):\n",
    "        for filename in filenames:\n",
    "            # Check if the file has the desired extension\n",
    "            if filename.endswith(extension):\n",
    "                # Construct the source and target paths\n",
    "                source_path = os.path.join(foldername, filename)\n",
    "                target_path = os.path.join(target_folder, filename)\n",
    "                # Copy the file to the target folder\n",
    "                shutil.copy(source_path, target_path)\n",
    "                print(f\"Copied '{source_path}' to '{target_path}'\")\n",
    "\n",
    "# Example usage:\n",
    "source_folder = '/path/to/source/folder'\n",
    "target_folder = '/path/to/target/folder'\n",
    "extension = '.pdf'  # Change to the desired file extension\n",
    "\n",
    "search_and_copy_files(source_folder, target_folder, extension)\n"
   ]
  }
 ],
 "metadata": {
  "kernelspec": {
   "display_name": "Python 3 (ipykernel)",
   "language": "python",
   "name": "python3"
  },
  "language_info": {
   "codemirror_mode": {
    "name": "ipython",
    "version": 3
   },
   "file_extension": ".py",
   "mimetype": "text/x-python",
   "name": "python",
   "nbconvert_exporter": "python",
   "pygments_lexer": "ipython3",
   "version": "3.11.7"
  }
 },
 "nbformat": 4,
 "nbformat_minor": 5
}

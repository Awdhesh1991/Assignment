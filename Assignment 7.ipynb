{
 "cells": [
  {
   "cell_type": "markdown",
   "id": "118dbe0c-51a1-408d-8dc4-7ac1542624e6",
   "metadata": {},
   "source": [
    "1. What is the name of the feature responsible for generating Regex objects?"
   ]
  },
  {
   "cell_type": "code",
   "execution_count": 7,
   "id": "2043a57d-4109-4425-b794-85abe22c02f8",
   "metadata": {},
   "outputs": [
    {
     "data": {
      "text/plain": [
       "regex.Regex('string', flags=regex.V0)"
      ]
     },
     "execution_count": 7,
     "metadata": {},
     "output_type": "execute_result"
    }
   ],
   "source": [
    "import regex\n",
    "regex.compile(\"string\")\n",
    "#The re.compile() function returns Regex objects."
   ]
  },
  {
   "cell_type": "code",
   "execution_count": 8,
   "id": "f5d134f0-b56e-4973-9535-77ba7245606d",
   "metadata": {},
   "outputs": [
    {
     "data": {
      "text/plain": [
       "re.compile(r'string', re.UNICODE)"
      ]
     },
     "execution_count": 8,
     "metadata": {},
     "output_type": "execute_result"
    }
   ],
   "source": [
    "import regex\n",
    "re.compile(\"string\")"
   ]
  },
  {
   "cell_type": "code",
   "execution_count": 9,
   "id": "bb6a442d-b5fb-42a6-a40b-40edbe5e701b",
   "metadata": {},
   "outputs": [
    {
     "data": {
      "text/plain": [
       "re.compile(r'string', re.UNICODE)"
      ]
     },
     "execution_count": 9,
     "metadata": {},
     "output_type": "execute_result"
    }
   ],
   "source": [
    "import re\n",
    "re.compile(\"string\")"
   ]
  },
  {
   "cell_type": "markdown",
   "id": "cdeab320-015c-4d70-9cd2-5520bf44f482",
   "metadata": {},
   "source": [
    "2. Why do raw strings often appear in Regex objects?"
   ]
  },
  {
   "cell_type": "code",
   "execution_count": null,
   "id": "ccdb5cbc-cf73-4f66-a110-499b7912b5a6",
   "metadata": {},
   "outputs": [],
   "source": [
    "Ans . Raw strings are used so that backslashes do not have to be escaped"
   ]
  },
  {
   "cell_type": "code",
   "execution_count": 10,
   "id": "bb9dada9-6698-4288-9179-ea449694cbf9",
   "metadata": {},
   "outputs": [],
   "source": [
    "3. What is the return value of the search() method?"
   ]
  },
  {
   "cell_type": "markdown",
   "id": "a45aa038-9c10-47a1-bc51-009e10835fa8",
   "metadata": {},
   "source": [
    "Ans . The search() method searches a string for a specified value, and returns the position of the match. \n",
    "The search value can be string or a regular expression. This method returns -1 if no match is found"
   ]
  },
  {
   "cell_type": "markdown",
   "id": "3daef1b7-5aee-4287-b234-b87b030a6525",
   "metadata": {},
   "source": [
    "4. From a Match item, how do you get the actual strings that match the pattern?"
   ]
  },
  {
   "cell_type": "code",
   "execution_count": 11,
   "id": "e4fbae47-0b65-4998-ae71-3d094fdb6be1",
   "metadata": {},
   "outputs": [
    {
     "name": "stdout",
     "output_type": "stream",
     "text": [
      "Phone number is: 345-444-4542\n"
     ]
    }
   ],
   "source": [
    "phoneNumRegex = re.compile(r'\\d\\d\\d-\\d\\d\\d-\\d\\d\\d\\d')\n",
    "mo = phoneNumRegex.search('My number is 345-444-4542.')\n",
    "print('Phone number is: ' + mo.group())\n",
    "#Calling matchingObject.group() will return the string."
   ]
  },
  {
   "cell_type": "markdown",
   "id": "2e8d41f1-0655-45d9-aaac-ac057becd1c3",
   "metadata": {},
   "source": [
    "5. In the regex which created from the r'(\\d\\d\\d)-(\\d\\d\\d-\\d\\d\\d\\d)', what does group zero cover? Group 2? Group 1?"
   ]
  },
  {
   "cell_type": "code",
   "execution_count": 12,
   "id": "872c06bd-5933-43a2-885c-46b11fdef2c0",
   "metadata": {},
   "outputs": [
    {
     "data": {
      "text/plain": [
       "'345'"
      ]
     },
     "execution_count": 12,
     "metadata": {},
     "output_type": "execute_result"
    }
   ],
   "source": [
    "phoneNumRegex = re.compile(r'(\\d\\d\\d)-(\\d\\d\\d-\\d\\d\\d\\d)')\n",
    "mo = phoneNumRegex.search('My number is 345-444-4542.')\n",
    "mo.group(1)\n"
   ]
  },
  {
   "cell_type": "code",
   "execution_count": 13,
   "id": "41a9b9b2-93e8-47f4-a83e-89c1fd7794d7",
   "metadata": {},
   "outputs": [
    {
     "data": {
      "text/plain": [
       "'444-4542'"
      ]
     },
     "execution_count": 13,
     "metadata": {},
     "output_type": "execute_result"
    }
   ],
   "source": [
    "mo.group(2)"
   ]
  },
  {
   "cell_type": "code",
   "execution_count": 14,
   "id": "f61d4817-9505-4887-b57e-94628e5b0340",
   "metadata": {},
   "outputs": [
    {
     "data": {
      "text/plain": [
       "'345-444-4542'"
      ]
     },
     "execution_count": 14,
     "metadata": {},
     "output_type": "execute_result"
    }
   ],
   "source": [
    "mo.group(0)"
   ]
  },
  {
   "cell_type": "markdown",
   "id": "7b9c7759-d61c-43bc-ad1d-0c83ace22535",
   "metadata": {},
   "source": [
    "6. In standard expression syntax, parentheses and intervals have distinct meanings. \n",
    "   How can you tell a regex that you want it to fit real parentheses and periods?"
   ]
  },
  {
   "cell_type": "markdown",
   "id": "9906f86c-ec85-4bd1-b9f4-90c2cfb32d98",
   "metadata": {},
   "source": [
    "Ans. Periods and parentheses can be escaped with a backslash: ., (, and )."
   ]
  },
  {
   "cell_type": "markdown",
   "id": "1d3617de-33c0-4681-977c-dc6139090c63",
   "metadata": {},
   "source": [
    "7. The findall() method returns a string list or a list of string tuples. What causes it to return one of the two options?"
   ]
  },
  {
   "cell_type": "markdown",
   "id": "964ea82c-33d2-4d68-95b5-6a9325804dde",
   "metadata": {},
   "source": [
    "Ans. If the regex has no groups, a list of strings is returned. If the regex has groups, a list of tuples of strings is returned."
   ]
  },
  {
   "cell_type": "markdown",
   "id": "a31bf9fd-878c-44a2-83c8-0217fe35c356",
   "metadata": {},
   "source": [
    "8. In standard expressions, what does the | character mean?"
   ]
  },
  {
   "cell_type": "markdown",
   "id": "bdbf0b5c-8cde-482a-a4d0-dc3803b49439",
   "metadata": {},
   "source": [
    "Ans. The | character is called a pipe. You can use it anywhere you want to match one of many expressions. \n",
    "For example, the regular expression r'Cricket|Soccer Sport' will match either 'Cricket' or 'Soccer Sport'."
   ]
  },
  {
   "cell_type": "markdown",
   "id": "22bc931d-f9ab-411e-b894-b83781540797",
   "metadata": {},
   "source": [
    "When both Cricket and Soccer Sport occur in the searched string, the first occurrence of matching text will be returned as the Match object."
   ]
  },
  {
   "cell_type": "markdown",
   "id": "cc908bd7-7c24-40f7-8eaa-9239b21fa0c2",
   "metadata": {},
   "source": [
    "The | character signifies matching “either, or” between two groups"
   ]
  },
  {
   "cell_type": "code",
   "execution_count": 30,
   "id": "0954532a-5170-4d34-87be-264c7af91469",
   "metadata": {},
   "outputs": [
    {
     "data": {
      "text/plain": [
       "'Cricket'"
      ]
     },
     "execution_count": 30,
     "metadata": {},
     "output_type": "execute_result"
    }
   ],
   "source": [
    "SportRegex = re.compile (r'Cricket|Soccer Sport')\n",
    "s1 = SportRegex.search('Cricket and Soccer Sport')\n",
    "s1.group()"
   ]
  },
  {
   "cell_type": "code",
   "execution_count": 31,
   "id": "d47fa70a-213b-446a-b3b3-6c7c7766d063",
   "metadata": {},
   "outputs": [
    {
     "ename": "NameError",
     "evalue": "name 'SporRegex' is not defined",
     "output_type": "error",
     "traceback": [
      "\u001b[1;31m---------------------------------------------------------------------------\u001b[0m",
      "\u001b[1;31mNameError\u001b[0m                                 Traceback (most recent call last)",
      "Cell \u001b[1;32mIn[31], line 1\u001b[0m\n\u001b[1;32m----> 1\u001b[0m s2 \u001b[38;5;241m=\u001b[39m SporRegex\u001b[38;5;241m.\u001b[39msearch(\u001b[38;5;124m'\u001b[39m\u001b[38;5;124mSoccer Sport and Cricket\u001b[39m\u001b[38;5;124m'\u001b[39m)\n\u001b[0;32m      2\u001b[0m s2\u001b[38;5;241m.\u001b[39mgroup()\n",
      "\u001b[1;31mNameError\u001b[0m: name 'SporRegex' is not defined"
     ]
    }
   ],
   "source": [
    "s2 = SporRegex.search('Soccer Sport and Cricket')\n",
    "s2.group()"
   ]
  },
  {
   "cell_type": "markdown",
   "id": "208c92ab-7ac1-4fd2-b225-ed139a9d3dab",
   "metadata": {},
   "source": [
    "9. In regular expressions, what does the character stand for?"
   ]
  },
  {
   "cell_type": "markdown",
   "id": "cdc529d5-6dac-4d07-ae6c-7ea0d09f6f5d",
   "metadata": {},
   "source": [
    "Ans. The ? character can either mean “match zero or one of the preceding group”."
   ]
  },
  {
   "cell_type": "code",
   "execution_count": 32,
   "id": "90901fa4-13a0-42dc-9b9b-5a2815e576c8",
   "metadata": {},
   "outputs": [
    {
     "data": {
      "text/plain": [
       "'Batman'"
      ]
     },
     "execution_count": 32,
     "metadata": {},
     "output_type": "execute_result"
    }
   ],
   "source": [
    "batRegex = re.compile(r'Bat(wo)?man')\n",
    "mo1 = batRegex.search('The Adventures of Batman')\n",
    "mo1.group()"
   ]
  },
  {
   "cell_type": "code",
   "execution_count": 33,
   "id": "9b3f9603-fb52-43ef-8e98-95ebe801614e",
   "metadata": {},
   "outputs": [
    {
     "data": {
      "text/plain": [
       "'Batwoman'"
      ]
     },
     "execution_count": 33,
     "metadata": {},
     "output_type": "execute_result"
    }
   ],
   "source": [
    "mo2 = batRegex.search('The Adventures of Batwoman')\n",
    "mo2.group()"
   ]
  },
  {
   "cell_type": "markdown",
   "id": "3b0ae42c-ea7d-40b9-92b7-dd5ff18b9fc9",
   "metadata": {},
   "source": [
    "10.In regular expressions, what is the difference between the + and * characters?"
   ]
  },
  {
   "cell_type": "code",
   "execution_count": null,
   "id": "822b94cd-74f8-4e0a-83ac-4d10999b1f55",
   "metadata": {},
   "outputs": [],
   "source": [
    "Ans. The + matches one or more. The * matches zero or more"
   ]
  },
  {
   "cell_type": "markdown",
   "id": "a53710b9-23fb-4e47-9c21-f7aa3eca595a",
   "metadata": {},
   "source": [
    "11. What is the difference between {4} and {4,5} in regular expression?"
   ]
  },
  {
   "cell_type": "markdown",
   "id": "202f7beb-bdc5-4b9a-aac7-ea6591883ec5",
   "metadata": {},
   "source": [
    "Ans. The {3} matches exactly three instances of the preceding group."
   ]
  },
  {
   "cell_type": "markdown",
   "id": "29eb5b96-1464-4c2a-9878-43bf3eedaefb",
   "metadata": {},
   "source": [
    "The {3,5} matches between three and five instances"
   ]
  },
  {
   "cell_type": "markdown",
   "id": "d5345e43-8caa-4bd5-9450-1c9ff88e0791",
   "metadata": {},
   "source": [
    "12. What do you mean by the \\d, \\w, and \\s shorthand character classes signify in regular expressions?"
   ]
  },
  {
   "cell_type": "markdown",
   "id": "e989f743-1117-4c56-9e5c-7a5b9755cad5",
   "metadata": {},
   "source": [
    "Ans .The \\d, stands for single digit, Any numeric digit from 0 to 9 \\w, stands for single word, Any letter, numeric digit, \n",
    "or the underscore character. (Think of this as matching “word” characters.) \\s stands for single space character, Any space, \n",
    "tab, or newline character. (Think of this as matching “space” characters.)"
   ]
  },
  {
   "cell_type": "markdown",
   "id": "61fac4b6-760a-4cfa-803d-13fe2a5bc0d5",
   "metadata": {},
   "source": [
    "13. What do means by \\D, \\W, and \\S shorthand character classes signify in regular expressions?"
   ]
  },
  {
   "cell_type": "markdown",
   "id": "ef294a9a-de11-4d02-baa9-5e629215a49f",
   "metadata": {},
   "source": [
    "Ans. \\D - > Any character that is not a numeric digit from 0 to 9.\n",
    "     \\W - > Any character that is not a letter, numeric digit, or the underscore character.\n",
    "     \\S - > Any character that is not a space, tab, or newline."
   ]
  },
  {
   "cell_type": "markdown",
   "id": "6eb8fe6f-e1ca-4367-bfdf-1badcd41ba16",
   "metadata": {},
   "source": [
    "14. What is the difference between .*? and .*?"
   ]
  },
  {
   "cell_type": "markdown",
   "id": "8ed9bd72-fc2b-46db-8851-927e7ed8a49c",
   "metadata": {},
   "source": [
    "Ans) .* - The dot-star uses greedy mode: It will always try to match as much text as possible.\n",
    "     .? - To match any and all text in a non-greedy fashion, use the dot, star, and question mark (.?). \n",
    "     Like with braces, the question mark tells Python to match in a non-greedy way."
   ]
  },
  {
   "cell_type": "markdown",
   "id": "1957aa3b-e73e-48f3-bef3-29d01cbdc2ff",
   "metadata": {},
   "source": [
    "15. What is the syntax for matching both numbers and lowercase letters with a character class?"
   ]
  },
  {
   "cell_type": "markdown",
   "id": "d6efdb60-0956-4050-8807-4cfeb9ce346c",
   "metadata": {},
   "source": [
    "Ans. Either [0-9a-z] or [a-z0-9]"
   ]
  },
  {
   "cell_type": "code",
   "execution_count": 35,
   "id": "5ecfbd0a-3b49-4803-be53-a294cf433732",
   "metadata": {},
   "outputs": [
    {
     "data": {
      "text/plain": [
       "'1'"
      ]
     },
     "execution_count": 35,
     "metadata": {},
     "output_type": "execute_result"
    }
   ],
   "source": [
    "reg1 = re.compile(r'[0-9a-z]')\n",
    "reg2 = re.compile(r'[a-z0-9]')\n",
    "\n",
    "mo1 = reg1.search('100 times I am Reading  this for 100 th time')\n",
    "mo1.group()"
   ]
  },
  {
   "cell_type": "code",
   "execution_count": 36,
   "id": "514cd8c6-839c-413a-bffe-85bbd493c727",
   "metadata": {},
   "outputs": [
    {
     "data": {
      "text/plain": [
       "'t'"
      ]
     },
     "execution_count": 36,
     "metadata": {},
     "output_type": "execute_result"
    }
   ],
   "source": [
    "reg2 = re.compile(r'[a-z0-9]')\n",
    "\n",
    "mo1 = reg2.search('times I am Reading  this for 100 th time')\n",
    "mo1.group()"
   ]
  },
  {
   "cell_type": "markdown",
   "id": "a3f9df67-e92f-4726-95cc-da0fd03f5258",
   "metadata": {},
   "source": [
    "16. What is the procedure for making a normal expression in regax case insensitive?"
   ]
  },
  {
   "cell_type": "markdown",
   "id": "047f2169-e311-4f42-9ba9-dea7d1ba9b29",
   "metadata": {},
   "source": [
    "Ans. Passing re.I or re.IGNORECASE as the second argument to re.compile() will make the matching case insensitive"
   ]
  },
  {
   "cell_type": "code",
   "execution_count": 37,
   "id": "ef9d122d-ac63-4bdf-9b5a-9cb196c6d3b7",
   "metadata": {},
   "outputs": [
    {
     "data": {
      "text/plain": [
       "'Machine'"
      ]
     },
     "execution_count": 37,
     "metadata": {},
     "output_type": "execute_result"
    }
   ],
   "source": [
    "casesen = re.compile(r'machine', re.I)\n",
    "casesen.search('Machine learning is part of data science').group()"
   ]
  },
  {
   "cell_type": "code",
   "execution_count": 38,
   "id": "4dbc9bac-4431-478b-b4b4-71341812ad37",
   "metadata": {},
   "outputs": [
    {
     "data": {
      "text/plain": [
       "'MACHINE'"
      ]
     },
     "execution_count": 38,
     "metadata": {},
     "output_type": "execute_result"
    }
   ],
   "source": [
    "casesen.search('MACHINE is learning.').group()"
   ]
  },
  {
   "cell_type": "code",
   "execution_count": null,
   "id": "cbee81d0-e4ad-48dc-b563-c51005fa0226",
   "metadata": {},
   "outputs": [],
   "source": [
    "17. What does the . character normally match? What does it match if re.DOTALL is passed as 2nd argument in re.compile()?"
   ]
  },
  {
   "cell_type": "markdown",
   "id": "acc1e7ce-5f30-4ed8-bd9e-4c3a303484a9",
   "metadata": {},
   "source": [
    "The . character normally matches any character except the newline character. If re.DOTALL is passed as the second argument to re. \n",
    "compile(), then the dot will also match newline characters."
   ]
  },
  {
   "cell_type": "markdown",
   "id": "24e2c440-e102-4ca7-a44c-5988bc5979e6",
   "metadata": {},
   "source": [
    "18. If numReg = re.compile(r'\\d+'), what will numRegex.sub('X', '11 drummers, 10 pipers, five rings, 4 hen') return?"
   ]
  },
  {
   "cell_type": "code",
   "execution_count": 39,
   "id": "ae148bba-eff3-40b6-a11a-6ae810bcd604",
   "metadata": {},
   "outputs": [
    {
     "data": {
      "text/plain": [
       "'X drummers, X pipers, five rings, X hen'"
      ]
     },
     "execution_count": 39,
     "metadata": {},
     "output_type": "execute_result"
    }
   ],
   "source": [
    "numRegex = re.compile(r'\\d+')\n",
    "mo = numRegex.sub('X', '11 drummers, 10 pipers, five rings, 4 hen')\n",
    "mo"
   ]
  },
  {
   "cell_type": "markdown",
   "id": "21bd784a-55af-4a38-b7de-939206f369ed",
   "metadata": {},
   "source": [
    "19. What does passing re.VERBOSE as the 2nd argument to re.compile() allow to do?"
   ]
  },
  {
   "cell_type": "markdown",
   "id": "ab822270-d160-4507-b417-e6303851f717",
   "metadata": {},
   "source": [
    "Ans. The re.VERBOSE argument allows you to add whitespace and comments to the string passed to re.compile()"
   ]
  },
  {
   "cell_type": "markdown",
   "id": "b4bd7296-f7d2-4760-8e5c-e63655edd077",
   "metadata": {},
   "source": [
    "20. How would you write a regex that match a number with comma for every three digits? It must match the given following:\n",
    "    '42'\r",
    "    \n",
    "'1,234'    \r\n",
    "'6,368,745     but not the following:\r",
    "    \n",
    "'12,34,567' (which has only two digits between the commas)    \r\n",
    "'1234' (which lacks commas)\r\n",
    "'\r\n"
   ]
  },
  {
   "cell_type": "markdown",
   "id": "29dbe3a2-3b50-42cd-8635-06858450a155",
   "metadata": {},
   "source": [
    "Explanation of the regex pattern:\n",
    "\n",
    "'^': Asserts the start of the string.\n",
    "'\\d{1,3}': Matches one to three digits.\n",
    "'(,\\d{3})*': Matches zero or more occurrences of a comma followed by exactly three digits.\n",
    "'$': Asserts the end of the string."
   ]
  },
  {
   "cell_type": "code",
   "execution_count": 40,
   "id": "9ba28d12-518c-4a9e-83e6-3fdb427ad0b1",
   "metadata": {},
   "outputs": [
    {
     "data": {
      "text/plain": [
       "'42'"
      ]
     },
     "execution_count": 40,
     "metadata": {},
     "output_type": "execute_result"
    }
   ],
   "source": [
    "reg1 = re.compile(r'^\\d{1,3}(,\\d{3})*$')\n",
    "mo1 = reg1.search('42')\n",
    "mo1.group()"
   ]
  },
  {
   "cell_type": "code",
   "execution_count": 41,
   "id": "60ae4829-67c3-4bdc-9557-99ede098190b",
   "metadata": {},
   "outputs": [
    {
     "data": {
      "text/plain": [
       "'1,234'"
      ]
     },
     "execution_count": 41,
     "metadata": {},
     "output_type": "execute_result"
    }
   ],
   "source": [
    "reg1 = re.compile(r'^\\d{1,3}(,\\d{3})*$')\n",
    "mo1 = reg1.search('1,234')\n",
    "mo1.group()"
   ]
  },
  {
   "cell_type": "code",
   "execution_count": 42,
   "id": "880b5bbe-9c63-4d6f-9eb0-c561757c18d9",
   "metadata": {},
   "outputs": [
    {
     "data": {
      "text/plain": [
       "'6,368,745'"
      ]
     },
     "execution_count": 42,
     "metadata": {},
     "output_type": "execute_result"
    }
   ],
   "source": [
    "reg1 = re.compile(r'^\\d{1,3}(,\\d{3})*$')\n",
    "mo1 = reg1.search('6,368,745')\n",
    "mo1.group()"
   ]
  },
  {
   "cell_type": "code",
   "execution_count": 48,
   "id": "5acac57f-78bc-407e-9c9a-74988c75d7e8",
   "metadata": {},
   "outputs": [
    {
     "name": "stdout",
     "output_type": "stream",
     "text": [
      "'42' matches the pattern.\n",
      "'1,234' matches the pattern.\n",
      "'6,368,745' matches the pattern.\n",
      "'12,34,567' does not match the pattern.\n",
      "'1234' does not match the pattern.\n"
     ]
    }
   ],
   "source": [
    "import re\n",
    "\n",
    "pattern = r'^\\d{1,3}(,\\d{3})*$'\n",
    "\n",
    "# Test cases\n",
    "test_cases = ['42', '1,234', '6,368,745', '12,34,567', '1234']\n",
    "\n",
    "for test in test_cases:\n",
    "    if re.match(pattern, test):\n",
    "        print(f\"'{test}' matches the pattern.\")\n",
    "    else:\n",
    "        print(f\"'{test}' does not match the pattern.\")\n"
   ]
  },
  {
   "cell_type": "markdown",
   "id": "f26abb6c-a884-42f0-9dd9-28b441ff792e",
   "metadata": {},
   "source": [
    "21. How would you write a regex that matches the full name of someone whose last name is Watanabe? \n",
    "You can assume that the first name that comes before it will always be one word that begins with a \n",
    "capital letter. The regex must match the following:\n",
    "\n",
    "'Haruto Watanabe'\n",
    "'Alice Watanabe'\n",
    "'RoboCop Watanabe'\n",
    "but not the following:\n",
    "'haruto Watanabe' (where the first name is not capitalized)\n",
    "'Mr. Watanabe' (where the preceding word has a nonletter character)\n",
    "'Watanabe' (which has no first name)\n",
    "'Haruto watanabe' (where Watanabe is not capitalized)"
   ]
  },
  {
   "cell_type": "markdown",
   "id": "36e100fd-786e-4332-9153-97eb129d85c1",
   "metadata": {},
   "source": [
    "Explanation of the regex pattern:\n",
    "'^': Asserts the start of the string.\n",
    "'[A-Z]': Matches a single uppercase letter (the first letter of the first name).\n",
    "'[a-zA-Z]*': Matches zero or more lowercase or uppercase letters (the rest of the first name).\n",
    "'\\s': Matches a single whitespace character (space).\n",
    "'bWatanabe': Matches the literal string \"Watanabe\".\n",
    "'$': Asserts the end of the string."
   ]
  },
  {
   "cell_type": "code",
   "execution_count": 43,
   "id": "c1064598-2785-4b9d-b53d-efd43053a4c5",
   "metadata": {},
   "outputs": [
    {
     "data": {
      "text/plain": [
       "'Haruto Watanabe'"
      ]
     },
     "execution_count": 43,
     "metadata": {},
     "output_type": "execute_result"
    }
   ],
   "source": [
    "name = re.compile(r'[A-Z][a-z]*\\sWatanabe')\n",
    "reg1 = re.compile(r'^\\d{1,3}(,\\d{haruto Watanabe3})*$')\n",
    "mo1 = name.search('Haruto Watanabe')\n",
    "mo1.group()\n"
   ]
  },
  {
   "cell_type": "code",
   "execution_count": 44,
   "id": "2b181959-5b3a-4dd6-a774-dc3cbc0cc836",
   "metadata": {},
   "outputs": [
    {
     "data": {
      "text/plain": [
       "'Alice Watanabe'"
      ]
     },
     "execution_count": 44,
     "metadata": {},
     "output_type": "execute_result"
    }
   ],
   "source": [
    "name = re.compile(r'[A-Z][a-z]*\\sWatanabe')\n",
    "reg1 = re.compile(r'^\\d{1,3}(,\\d{3})*$')\n",
    "mo1 = name.search('Alice Watanabe')\n",
    "mo1.group()\n"
   ]
  },
  {
   "cell_type": "code",
   "execution_count": 45,
   "id": "1dac8663-b793-417d-9e82-200c57985a85",
   "metadata": {},
   "outputs": [
    {
     "data": {
      "text/plain": [
       "'Robocop Watanabe'"
      ]
     },
     "execution_count": 45,
     "metadata": {},
     "output_type": "execute_result"
    }
   ],
   "source": [
    "name = re.compile(r'[A-Z][a-z]*\\sWatanabe')\n",
    "reg1 = re.compile(r'^\\d{1,3}(,\\d{3})*$')\n",
    "mo1 = name.search('Robocop Watanabe')\n",
    "mo1.group()"
   ]
  },
  {
   "cell_type": "code",
   "execution_count": 49,
   "id": "c344f9ab-a660-4a19-9a6f-9f0fffc97884",
   "metadata": {},
   "outputs": [
    {
     "name": "stdout",
     "output_type": "stream",
     "text": [
      "'Haruto Watanabe' matches the pattern.\n",
      "'Alice Watanabe' matches the pattern.\n",
      "'RoboCop Watanabe' matches the pattern.\n",
      "'haruto Watanabe' does not match the pattern.\n",
      "'Mr. Watanabe' does not match the pattern.\n",
      "'Watanabe' does not match the pattern.\n",
      "'Haruto watanabe' does not match the pattern.\n"
     ]
    }
   ],
   "source": [
    "import re\n",
    "\n",
    "pattern = r'^[A-Z][a-zA-Z]*\\sWatanabe$'\n",
    "\n",
    "# Test cases\n",
    "test_cases = ['Haruto Watanabe', 'Alice Watanabe', 'RoboCop Watanabe',\n",
    "              'haruto Watanabe', 'Mr. Watanabe', 'Watanabe', 'Haruto watanabe']\n",
    "\n",
    "for test in test_cases:\n",
    "    if re.match(pattern, test):\n",
    "        print(f\"'{test}' matches the pattern.\")\n",
    "    else:\n",
    "        print(f\"'{test}' does not match the pattern.\")\n"
   ]
  },
  {
   "cell_type": "code",
   "execution_count": null,
   "id": "96d85859-98c1-4c54-8f6b-950668968685",
   "metadata": {},
   "outputs": [],
   "source": [
    "22. How would you write a regex that matches a sentence where the first word is either Alice, Bob, or Carol; \n",
    "the second word is either eats, pets, or throws; the third word is apples, cats, or baseballs; and the sentence \n",
    "ends with a period? This regex should be case-insensitive. It must match the following:\n",
    "\n",
    "'Alice eats apples.'\n",
    "'Bob pets cats.'\n",
    "'Carol throws baseballs.'\n",
    "'Alice throws Apples.'\n",
    "'BOB EATS CATS.'\n",
    "but not the following:\n",
    "'RoboCop eats apples.'\n",
    "'ALICE THROWS FOOTBALLS.'\n",
    "'Carol eats 7 cats.'\n"
   ]
  },
  {
   "cell_type": "markdown",
   "id": "b290d842-32a3-4548-850c-28a0956a8026",
   "metadata": {},
   "source": [
    "Explanation of the regex pattern:\n",
    "\n",
    "'^': Asserts the start of the string.\n",
    "'(Alice|Bob|Carol)': Matches one of the specified first names (case-insensitive).\n",
    "'\\s': Matches a whitespace character (space).\n",
    "'(eats|pets|throws)': Matches one of the specified action words (case-insensitive).\n",
    "'(apples|cats|baseballs)': Matches one of the specified objects (case-insensitive).\n",
    "'\\.$': Matches a period at the end of the string."
   ]
  },
  {
   "cell_type": "code",
   "execution_count": 46,
   "id": "6d74e437-c58a-4215-8c74-1b234415679c",
   "metadata": {},
   "outputs": [
    {
     "data": {
      "text/plain": [
       "'Alice eats apples.'"
      ]
     },
     "execution_count": 46,
     "metadata": {},
     "output_type": "execute_result"
    }
   ],
   "source": [
    "name = re.compile(r'(Alice|Bob|Carol)\\s(eats|pets|throws)\\s(apples|cats|baseballs)\\.', re.IGNORECASE)\n",
    "\n",
    "mo1 = name.search('Alice eats apples.')\n",
    "mo1.group()"
   ]
  },
  {
   "cell_type": "code",
   "execution_count": 47,
   "id": "88e0812b-39a0-4730-8b70-14dda96d4431",
   "metadata": {},
   "outputs": [
    {
     "data": {
      "text/plain": [
       "'Carol throws baseballs.'"
      ]
     },
     "execution_count": 47,
     "metadata": {},
     "output_type": "execute_result"
    }
   ],
   "source": [
    "name = re.compile(r'(Alice|Bob|Carol)\\s(eats|pets|throws)\\s(apples|cats|baseballs)\\.', re.IGNORECASE)\n",
    "\n",
    "mo1 = name.search('Carol throws baseballs.')\n",
    "mo1.group()"
   ]
  },
  {
   "cell_type": "code",
   "execution_count": 50,
   "id": "a0475571-8174-42cf-8f0a-6064369ff6bb",
   "metadata": {},
   "outputs": [
    {
     "name": "stdout",
     "output_type": "stream",
     "text": [
      "'Alice eats apples.' matches the pattern.\n",
      "'Bob pets cats.' matches the pattern.\n",
      "'Carol throws baseballs.' matches the pattern.\n",
      "'Alice throws Apples.' matches the pattern.\n",
      "'BOB EATS CATS.' matches the pattern.\n",
      "'RoboCop eats apples.' does not match the pattern.\n",
      "'ALICE THROWS FOOTBALLS.' does not match the pattern.\n",
      "'Carol eats 7 cats.' does not match the pattern.\n"
     ]
    }
   ],
   "source": [
    "import re\n",
    "\n",
    "pattern = r'^(Alice|Bob|Carol)\\s(eats|pets|throws)\\s(apples|cats|baseballs)\\.$'\n",
    "\n",
    "# Test cases\n",
    "test_cases = ['Alice eats apples.', 'Bob pets cats.', 'Carol throws baseballs.',\n",
    "              'Alice throws Apples.', 'BOB EATS CATS.', 'RoboCop eats apples.',\n",
    "              'ALICE THROWS FOOTBALLS.', 'Carol eats 7 cats.']\n",
    "\n",
    "for test in test_cases:\n",
    "    if re.match(pattern, test, re.IGNORECASE):\n",
    "        print(f\"'{test}' matches the pattern.\")\n",
    "    else:\n",
    "        print(f\"'{test}' does not match the pattern.\")\n"
   ]
  },
  {
   "cell_type": "code",
   "execution_count": null,
   "id": "b4d52f5f-0e34-4e3b-9411-ca6fc755e3b1",
   "metadata": {},
   "outputs": [],
   "source": []
  }
 ],
 "metadata": {
  "kernelspec": {
   "display_name": "Python 3 (ipykernel)",
   "language": "python",
   "name": "python3"
  },
  "language_info": {
   "codemirror_mode": {
    "name": "ipython",
    "version": 3
   },
   "file_extension": ".py",
   "mimetype": "text/x-python",
   "name": "python",
   "nbconvert_exporter": "python",
   "pygments_lexer": "ipython3",
   "version": "3.11.7"
  }
 },
 "nbformat": 4,
 "nbformat_minor": 5
}

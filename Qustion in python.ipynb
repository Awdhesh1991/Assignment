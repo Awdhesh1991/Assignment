{
 "cells": [
  {
   "cell_type": "markdown",
   "id": "be7458ae-a29b-4d3a-adff-04cd577dd3d0",
   "metadata": {},
   "source": [
    "1.\tWhat is decorator in python and why do we use it?"
   ]
  },
  {
   "cell_type": "markdown",
   "id": "dcda49b6-dcec-4a0b-8d25-08f0033ced14",
   "metadata": {},
   "source": [
    "Decorators are a powerful and elegant feature in Python that allows you to modify or extend the behavior of functions \n",
    "or methods without changing their actual code. They are an excellent way to apply reusable functionality across multiple \n",
    "functions, such as timing, caching, logging, or authentication.\n"
   ]
  },
  {
   "cell_type": "markdown",
   "id": "51e0f9d2-1138-45f4-a784-39494505b997",
   "metadata": {},
   "source": [
    "In Python, a decorator is a design pattern that allows you to modify the behavior of a function \n",
    "or a class method without changing its source code directly. Decorators are essentially functions \n",
    "that wrap other functions or methods, adding some kind of functionality before or after the \n",
    "execution of the wrapped function.\n",
    "पायथन में, डेकोरेटर एक डिज़ाइन पैटर्न है जो आपको किसी फ़ंक्शन या क्लास विधि के स्रोत कोड को सीधे बदले बिना उसके व्यवहार को संशोधित \n",
    "करने की अनुमति देता है। डेकोरेटर अनिवार्य रूप से ऐसे कार्य हैं जो अन्य कार्यों या विधियों को लपेटते हैं, लपेटे गए फ़ंक्शन के निष्पादन से पहले या \n",
    "बाद में कुछ प्रकार की कार्यक्षमता जोड़ते हैं।\r\n"
   ]
  },
  {
   "cell_type": "code",
   "execution_count": 2,
   "id": "bd621c8d-e4b4-401c-8c2f-08d900c8588f",
   "metadata": {},
   "outputs": [
    {
     "name": "stdout",
     "output_type": "stream",
     "text": [
      "Something is happening before the function is called.\n",
      "Hello!\n",
      "Something is happening after the function is called.\n"
     ]
    }
   ],
   "source": [
    "def my_decorator(salf):\n",
    "    def wrapper():\n",
    "        print(\"Something is happening before the function is called.\")\n",
    "        salf()\n",
    "        print(\"Something is happening after the function is called.\")\n",
    "    return wrapper\n",
    "\n",
    "@my_decorator\n",
    "def say_hello():\n",
    "    print(\"Hello!\")\n",
    "\n",
    "say_hello()\n"
   ]
  },
  {
   "cell_type": "markdown",
   "id": "524b4bd2-7da6-4b8f-b243-767cc3411b8c",
   "metadata": {},
   "source": [
    "1.Code Reusability: Decorators allow us to add common functionalities to multiple functions or methods without duplicating code.\n",
    "\n",
    "2.Separation of Concerns: Decorators help in separating concerns by keeping the core logic of a function separate from additional functionality.\n",
    "\n",
    "3.Aspect-Oriented Programming (AOP): Decorators facilitate AOP by enabling cross-cutting concerns such as logging, caching, authentication, \n",
    "  etc., to be applied to multiple functions in a modular way.\n",
    "\n",
    "4.Readability: Decorators can enhance the readability of code by providing a clean and concise way to add functionality to functions or methods.\n",
    "\n"
   ]
  },
  {
   "cell_type": "markdown",
   "id": "a956abe4-3d4f-4496-9a82-13c1b7c01868",
   "metadata": {},
   "source": [
    "2.\tWhat is @classmethod"
   ]
  },
  {
   "cell_type": "markdown",
   "id": "c2e0fa80-7e6a-4b3e-a0b5-73e721a1c0f1",
   "metadata": {},
   "source": [
    "In Python, '@classmethod' is a built-in decorator used to define a method within a 'class' that operates on the class \n",
    "itself rather than on instances of the class. This means that the method receives the class itself as its first argument, \n",
    "conventionally named 'cls', instead of the instance (self).\n"
   ]
  },
  {
   "cell_type": "code",
   "execution_count": 3,
   "id": "ddac2ebf-c413-439f-b9ca-c5d69956746b",
   "metadata": {},
   "outputs": [
    {
     "name": "stdout",
     "output_type": "stream",
     "text": [
      "Class variable: 10\n"
     ]
    }
   ],
   "source": [
    "class MyClass:\n",
    "    class_variable = 10\n",
    "    \n",
    "    @classmethod\n",
    "    def class_method(cls):\n",
    "        print(\"Class variable:\", cls.class_variable)\n",
    "\n",
    "# Calling the class method without creating an instance\n",
    "MyClass.class_method()\n"
   ]
  },
  {
   "cell_type": "markdown",
   "id": "47e422b0-eae7-4c4c-a666-4f3aa0875fc3",
   "metadata": {},
   "source": [
    "3.\tWhat is @staticmethod"
   ]
  },
  {
   "cell_type": "markdown",
   "id": "b94fdc24-b1db-4d5e-897c-bb29c24a8372",
   "metadata": {},
   "source": [
    "In Python, @staticmethod is another built-in decorator similar to @classmethod, but with a key difference: \n",
    "it defines a method within a class that doesn't depend on the instance or the class itself. This means that \n",
    "static methods neither receive the instance (self) nor the class (cls) as arguments. They behave like regular \n",
    "functions, but they are defined within a class for better organization and encapsulation.\n"
   ]
  },
  {
   "cell_type": "code",
   "execution_count": 4,
   "id": "568467bf-59ca-424d-8e73-9d00fde3d0a6",
   "metadata": {},
   "outputs": [
    {
     "name": "stdout",
     "output_type": "stream",
     "text": [
      "Multiplication: 24\n"
     ]
    }
   ],
   "source": [
    "class Result:\n",
    "    @staticmethod\n",
    "    def multiply(x, y, z):\n",
    "        print('Multiplication:', x*y*z)\n",
    "\n",
    "Result.multiply(2, 3, 4)"
   ]
  },
  {
   "cell_type": "code",
   "execution_count": 5,
   "id": "f2965f3a-d98b-4d60-ab58-8bace582b9d1",
   "metadata": {},
   "outputs": [
    {
     "name": "stdout",
     "output_type": "stream",
     "text": [
      "Result of addition: 8\n"
     ]
    }
   ],
   "source": [
    "class MathOperations:\n",
    "    @staticmethod\n",
    "    def add(x, y):\n",
    "        return x + y\n",
    "\n",
    "result = MathOperations.add(3, 5)\n",
    "print(\"Result of addition:\", result)\n"
   ]
  },
  {
   "cell_type": "markdown",
   "id": "1d11663d-207a-41bd-8ecd-3e5830dc9b92",
   "metadata": {},
   "source": [
    "In summary, @staticmethod is used to define methods within a class that don't depend on instance or class state. \n",
    "They are called directly on the class and behave like regular functions but are defined within a class for organizational purposes.\n"
   ]
  },
  {
   "cell_type": "markdown",
   "id": "56b6e93f-9ed1-4be9-9483-930e3618dbf2",
   "metadata": {},
   "source": [
    "4.\tWhat is @property"
   ]
  },
  {
   "cell_type": "code",
   "execution_count": null,
   "id": "72b8f456-4a68-454e-943e-d31d7498e306",
   "metadata": {},
   "outputs": [],
   "source": [
    "In Python, @property is a built-in decorator that allows you to define methods within a class that can be \n",
    "accessed like attributes, providing a way to encapsulate the access and modification of class attributes. \n",
    "This decorator is commonly used to create computed or calculated attributes, enforce constraints on attribute \n",
    "values, or define read-only properties.\n"
   ]
  },
  {
   "cell_type": "code",
   "execution_count": 11,
   "id": "fb3bff83-d624-4bcc-aa68-47b593819bc0",
   "metadata": {},
   "outputs": [
    {
     "name": "stdout",
     "output_type": "stream",
     "text": [
      "Radius: 5\n",
      "Diameter: 10\n",
      "Area: 78.5\n"
     ]
    }
   ],
   "source": [
    "class Circle:\n",
    "    def __init__(self, radius):\n",
    "        self.radius = radius\n",
    "    \n",
    "    @property\n",
    "    def diameter(self):\n",
    "        return 2 * self.radius\n",
    "    \n",
    "    @property\n",
    "    def area(self):\n",
    "        return 3.14 * self.radius ** 2\n",
    "\n",
    "# Creating an instance of Circle\n",
    "circle = Circle(5)\n",
    "\n",
    "# Accessing the properties\n",
    "print(\"Radius:\", circle.radius)\n",
    "print(\"Diameter:\", circle.diameter)  # Accessing diameter as if it's an attribute\n",
    "print(\"Area:\", circle.area)  # Accessing area as if it's an attribute\n"
   ]
  },
  {
   "cell_type": "markdown",
   "id": "4dbb001c-431c-410e-af02-d40756ca3eda",
   "metadata": {},
   "source": [
    "In summary, @property is used to define methods within a class that can be accessed like attributes. \n",
    "It provides a way to encapsulate attribute access and modification, enabling computed attributes, validation, \n",
    "and controlled access to class attributes.\n"
   ]
  },
  {
   "cell_type": "markdown",
   "id": "00e36fcb-9111-4b69-9002-aa37dce24486",
   "metadata": {},
   "source": [
    "5.\tWhat is constructor?"
   ]
  },
  {
   "cell_type": "markdown",
   "id": "57437017-9f2a-4ea8-9e7b-d970736e9674",
   "metadata": {},
   "source": [
    "In object-oriented programming, a constructor is a special type of method that is automatically called when \n",
    "a new instance of a class is created. Its primary purpose is to initialize the newly created object and set its initial state.\n"
   ]
  },
  {
   "cell_type": "markdown",
   "id": "1b8b56d2-43dd-4316-803e-1069f4b51dc6",
   "metadata": {},
   "source": [
    "In Python, the constructor method is named '__init__'. It is defined within a class and typically takes at least \n",
    "one argument, conventionally named self, which refers to the instance being created. Additional arguments can be \n",
    "passed to the constructor to provide initial values for the object's attributes.\n"
   ]
  },
  {
   "cell_type": "code",
   "execution_count": 13,
   "id": "92e837e2-9d25-427c-8d76-5ff9037510e1",
   "metadata": {},
   "outputs": [
    {
     "name": "stdout",
     "output_type": "stream",
     "text": [
      "Name: Awdhesh Age: 30\n",
      "Name: Harikesh Age: 29\n"
     ]
    }
   ],
   "source": [
    "class Person:\n",
    "    def __init__(self, name, age):\n",
    "        self.name = name\n",
    "        self.age = age\n",
    "\n",
    "person1 = Person(\"Awdhesh\", 30)\n",
    "person2 = Person(\"Harikesh\", 29)\n",
    "\n",
    "print(\"Name:\", person1.name, \"Age:\", person1.age)\n",
    "print(\"Name:\", person2.name, \"Age:\", person2.age)\n"
   ]
  },
  {
   "cell_type": "markdown",
   "id": "e8909713-1932-418d-ba34-fdaf93498d27",
   "metadata": {},
   "source": [
    "6.\tWhat is attributes and methods?"
   ]
  },
  {
   "cell_type": "markdown",
   "id": "69a6903b-34e2-4a46-aeac-ef04aded8b09",
   "metadata": {},
   "source": [
    "Attributes and methods are two important concepts in Object-Oriented Programming (OOP). \n",
    "Attributes are characteristics of an object, while methods are functions that act on an object. \n",
    "Attributes are defined within a class definition.\n"
   ]
  },
  {
   "cell_type": "markdown",
   "id": "9dcca207-081e-49c2-b173-8c81be16ac2d",
   "metadata": {},
   "source": [
    "Attributes are pieces of data associated with an object. They represent the state of an object and describe \n",
    "its characteristics or properties. In Python, attributes are typically implemented as variables that are bound \n",
    "to instances of a class. These variables can hold different types of data, such as integers, strings, lists, or even other objects.\n"
   ]
  },
  {
   "cell_type": "code",
   "execution_count": 14,
   "id": "8f71cc91-53bb-46ea-92f3-f72995a5e4c8",
   "metadata": {},
   "outputs": [
    {
     "name": "stdout",
     "output_type": "stream",
     "text": [
      "Name: Alice\n",
      "Age: 30\n"
     ]
    }
   ],
   "source": [
    "class Person:\n",
    "    def __init__(self, name, age):\n",
    "        self.name = name  # 'name' is an attribute\n",
    "        self.age = age    # 'age' is an attribute\n",
    "\n",
    "# Creating an instance of the Person class\n",
    "person1 = Person(\"Alice\", 30)\n",
    "\n",
    "# Accessing attributes\n",
    "print(\"Name:\", person1.name)\n",
    "print(\"Age:\", person1.age)\n"
   ]
  },
  {
   "cell_type": "code",
   "execution_count": null,
   "id": "8cefa94f-c2af-4ab7-a354-3a21261402cf",
   "metadata": {},
   "outputs": [],
   "source": []
  }
 ],
 "metadata": {
  "kernelspec": {
   "display_name": "Python 3 (ipykernel)",
   "language": "python",
   "name": "python3"
  },
  "language_info": {
   "codemirror_mode": {
    "name": "ipython",
    "version": 3
   },
   "file_extension": ".py",
   "mimetype": "text/x-python",
   "name": "python",
   "nbconvert_exporter": "python",
   "pygments_lexer": "ipython3",
   "version": "3.11.7"
  }
 },
 "nbformat": 4,
 "nbformat_minor": 5
}

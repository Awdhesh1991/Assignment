{
 "cells": [
  {
   "cell_type": "markdown",
   "id": "4fd06555-3918-4acd-b113-ce49b538ac60",
   "metadata": {},
   "source": [
    "1. In the below elements which of them are values or an expression? eg:- values can be integer or string and expressions will be mathematical operators."
   ]
  },
  {
   "cell_type": "code",
   "execution_count": 1,
   "id": "0c412b00-bcec-4cd6-8031-1ffc30b0e26a",
   "metadata": {},
   "outputs": [
    {
     "name": "stdout",
     "output_type": "stream",
     "text": [
      "['hellohellohello']\n"
     ]
    }
   ],
   "source": [
    "mylist_string  = [\"hello\"*3]\n",
    "print(mylist_string)"
   ]
  },
  {
   "cell_type": "code",
   "execution_count": 5,
   "id": "17ab207d-11b4-46f6-9008-d3e28a86faa5",
   "metadata": {},
   "outputs": [
    {
     "name": "stdout",
     "output_type": "stream",
     "text": [
      "[-43.9]\n"
     ]
    }
   ],
   "source": [
    "mylist_float = [-87.8/2]\n",
    "print(mylist_float)"
   ]
  },
  {
   "cell_type": "code",
   "execution_count": 6,
   "id": "fb2a8772-d0e9-48a4-ac06-ed4bdea72fc0",
   "metadata": {},
   "outputs": [
    {
     "name": "stdout",
     "output_type": "stream",
     "text": [
      "[-175.6]\n"
     ]
    }
   ],
   "source": [
    "mylist_float = [-87.8*2]\n",
    "print(mylist_float)"
   ]
  },
  {
   "cell_type": "code",
   "execution_count": 7,
   "id": "f84f5b2e-08ff-4684-ae15-176450597378",
   "metadata": {},
   "outputs": [
    {
     "name": "stdout",
     "output_type": "stream",
     "text": [
      "[-85.8]\n"
     ]
    }
   ],
   "source": [
    "mylist_float = [-87.8+2]\n",
    "print(mylist_float)"
   ]
  },
  {
   "cell_type": "code",
   "execution_count": 8,
   "id": "60b6c23e-e05a-4bef-b803-ceedf5063fad",
   "metadata": {},
   "outputs": [
    {
     "name": "stdout",
     "output_type": "stream",
     "text": [
      "[-89.8]\n"
     ]
    }
   ],
   "source": [
    "mylist_float = [-87.8-2]\n",
    "print(mylist_float)"
   ]
  },
  {
   "cell_type": "code",
   "execution_count": 9,
   "id": "870b4578-ea59-44cb-aa7c-214c12ffb606",
   "metadata": {},
   "outputs": [
    {
     "name": "stdout",
     "output_type": "stream",
     "text": [
      "[12]\n"
     ]
    }
   ],
   "source": [
    "mylist_integer = [6*2]\n",
    "print(mylist_integer)"
   ]
  },
  {
   "cell_type": "code",
   "execution_count": 10,
   "id": "95e0d367-65fc-4cf7-8135-8313cd2f5953",
   "metadata": {},
   "outputs": [
    {
     "name": "stdout",
     "output_type": "stream",
     "text": [
      "[3.0]\n"
     ]
    }
   ],
   "source": [
    "mylist_integer = [6/2]\n",
    "print(mylist_integer)"
   ]
  },
  {
   "cell_type": "code",
   "execution_count": 11,
   "id": "5c0fcee5-58f8-4636-9289-0401658305d4",
   "metadata": {},
   "outputs": [
    {
     "name": "stdout",
     "output_type": "stream",
     "text": [
      "[4]\n"
     ]
    }
   ],
   "source": [
    "mylist_integer = [6-2]\n",
    "print(mylist_integer)"
   ]
  },
  {
   "cell_type": "code",
   "execution_count": 12,
   "id": "1424df8e-aa33-41e9-b68c-a137e54a3c69",
   "metadata": {},
   "outputs": [
    {
     "name": "stdout",
     "output_type": "stream",
     "text": [
      "[8]\n"
     ]
    }
   ],
   "source": [
    "mylist_integer = [6+2]\n",
    "print(mylist_integer)"
   ]
  },
  {
   "cell_type": "markdown",
   "id": "c13969de-df33-45fe-bb5d-e28319c90af6",
   "metadata": {},
   "source": [
    "2. What is the difference between string and variable?"
   ]
  },
  {
   "cell_type": "markdown",
   "id": "edc637a9-9eb2-4b01-a1ab-eea0fc6cb052",
   "metadata": {},
   "source": [
    "String: A string is a data type used to represent a sequence of characters, such as letters, digits, symbols, \n",
    "and spaces. In most programming languages, strings are enclosed within either single quotes (' ') or double quotes (\" \").\n",
    "\n"
   ]
  },
  {
   "cell_type": "markdown",
   "id": "a365b967-2f66-4784-b1a5-218a621dca8b",
   "metadata": {},
   "source": [
    "Variable: A variable is a symbolic name that represents a value stored in the computer'\n",
    "\n"
   ]
  },
  {
   "cell_type": "markdown",
   "id": "5fd10039-121a-4bcb-b54e-4913c5f440a2",
   "metadata": {},
   "source": [
    "3. Describe three different data types."
   ]
  },
  {
   "cell_type": "markdown",
   "id": "034d1dd5-9bff-4075-8afd-48f59235837b",
   "metadata": {},
   "source": [
    "1. Integer (int):\n",
    "    # Integers are a fundamental data type used to represent whole numbers, both positive and negative, without any fractional part.\n",
    "    # Examples of integers include: -5, 0, 42, 1001.\n",
    "    # In many programming languages, integers have a fixed size, which determines the range of values they can represent. \n",
    "      For instance, a 32-bit integer can represent values from -2,147,483,648 to 2,147,483,647.\n",
    "    # Integers are often used in situations where only whole numbers are required, such as counting, indexing, \n",
    "      and arithmetic operations that do not involve fractions.\n",
    "\n"
   ]
  },
  {
   "cell_type": "markdown",
   "id": "0a214355-fa29-46fc-9e76-8edcc49b16f1",
   "metadata": {},
   "source": [
    "2. String (str):\n",
    "    # Strings are used to represent sequences of characters, such as letters, digits, symbols, and spaces.\n",
    "    # Strings are typically enclosed within either single quotes (' ') or double quotes (\" \").\n",
    "    # Examples of strings include: \"hello\", 'world', \"12345\", \"This is a string!\".\n",
    "    # Strings are versatile and widely used in programming for tasks such as representing text data, input/output operations, \n",
    "      manipulation of textual information, and formatting.\n",
    " "
   ]
  },
  {
   "cell_type": "code",
   "execution_count": null,
   "id": "8c344e17-46ca-478f-b82c-ca8dc4cf6872",
   "metadata": {},
   "outputs": [],
   "source": [
    "3. Boolean (bool):\n",
    "    # Booleans represent a binary value indicating true or false.\n",
    "    # Boolean values are often used in decision-making and logical operations.\n",
    "    # Examples of boolean values include: True, False.\n",
    "    # Booleans are fundamental in programming for control flow statements (e.g., if statements, while loops) and boolean algebra operations.\n"
   ]
  },
  {
   "cell_type": "markdown",
   "id": "37c01c64-b549-4bee-bb3d-6d1e60d58ded",
   "metadata": {},
   "source": [
    "4. What is an expression made up of? What do all expressions do?"
   ]
  },
  {
   "cell_type": "code",
   "execution_count": null,
   "id": "7fc537ca-89ba-4ed9-816d-212a22e8380f",
   "metadata": {},
   "outputs": [],
   "source": []
  },
  {
   "cell_type": "markdown",
   "id": "0d6b2c70-9b80-4f63-a537-685511167307",
   "metadata": {},
   "source": [
    "5. This assignment statements, like spam = 10. What is the difference between an expression and a statement?"
   ]
  },
  {
   "cell_type": "code",
   "execution_count": null,
   "id": "c8802cfc-b44d-4494-9d60-6e0adfbbbd32",
   "metadata": {},
   "outputs": [],
   "source": []
  },
  {
   "cell_type": "markdown",
   "id": "b5563e2e-4463-49e3-bdd8-0109772e5ccf",
   "metadata": {},
   "source": [
    "6. After running the following code, what does the variable bacon contain?\n",
    "bacon = 22\n",
    "bacon + 1\n"
   ]
  },
  {
   "cell_type": "code",
   "execution_count": 17,
   "id": "8c05fd7a-3a9d-41a2-9f77-a1b4c9aa6b61",
   "metadata": {},
   "outputs": [
    {
     "data": {
      "text/plain": [
       "23"
      ]
     },
     "execution_count": 17,
     "metadata": {},
     "output_type": "execute_result"
    }
   ],
   "source": [
    "bacon = 22\n",
    "bacon + 1"
   ]
  },
  {
   "cell_type": "code",
   "execution_count": 14,
   "id": "8509e09e-b63c-479d-ad8f-468b5e0a528b",
   "metadata": {},
   "outputs": [
    {
     "name": "stdout",
     "output_type": "stream",
     "text": [
      "23\n"
     ]
    }
   ],
   "source": [
    "bacon = 22\n",
    "bacon = bacon + 1\n",
    "print(bacon)"
   ]
  },
  {
   "cell_type": "code",
   "execution_count": 15,
   "id": "56530e7f-58f0-4132-be92-bce606a5d12d",
   "metadata": {},
   "outputs": [
    {
     "name": "stdout",
     "output_type": "stream",
     "text": [
      "23\n"
     ]
    }
   ],
   "source": [
    "bacon = 22\n",
    "bacon += 1  # Equivalent to bacon = bacon + 1\n",
    "print(bacon)"
   ]
  },
  {
   "cell_type": "markdown",
   "id": "b5356200-7ece-4b0a-949c-4aa6202a8eea",
   "metadata": {},
   "source": [
    "7. What should the values of the following two terms be?\n",
    "'spam' + 'spamspam'\n",
    "'spam' * 3\n"
   ]
  },
  {
   "cell_type": "code",
   "execution_count": 18,
   "id": "531e31b3-d183-4e21-931e-44df05d39111",
   "metadata": {},
   "outputs": [
    {
     "name": "stdout",
     "output_type": "stream",
     "text": [
      "spamspamspam\n"
     ]
    }
   ],
   "source": [
    "var = 'spam'+'spamspam'\n",
    "print(var)"
   ]
  },
  {
   "cell_type": "code",
   "execution_count": 19,
   "id": "54c1aedf-5537-4ed6-8d79-d3be751fc7cd",
   "metadata": {},
   "outputs": [
    {
     "name": "stdout",
     "output_type": "stream",
     "text": [
      "spamspamspam\n"
     ]
    }
   ],
   "source": [
    "var1 = 'spam'*3\n",
    "print(var1)"
   ]
  },
  {
   "cell_type": "markdown",
   "id": "321ecc9b-8991-47a2-a4ec-0d43470c7d8f",
   "metadata": {},
   "source": [
    "8. Why is eggs a valid variable name while 100 is invalid?"
   ]
  },
  {
   "cell_type": "markdown",
   "id": "20cdf312-3487-4207-94d5-861d1ede5767",
   "metadata": {},
   "source": [
    "yes egga is a valid variable \n",
    "yes 100 is invalid variable"
   ]
  },
  {
   "cell_type": "markdown",
   "id": "51096145-7cd4-48e8-ae95-a26468c06aa3",
   "metadata": {},
   "source": [
    "9. What three functions can be used to get the integer, floating-point number, or string version of a value?"
   ]
  },
  {
   "cell_type": "code",
   "execution_count": 21,
   "id": "2383e541-11b1-441a-9b47-ac9df287b969",
   "metadata": {},
   "outputs": [
    {
     "name": "stdout",
     "output_type": "stream",
     "text": [
      "10\n"
     ]
    }
   ],
   "source": [
    "# Integer Conversion:\n",
    "value = 10.5\n",
    "integer_value = int(value)\n",
    "print(integer_value)"
   ]
  },
  {
   "cell_type": "code",
   "execution_count": 22,
   "id": "5b12cf54-a71f-419a-b43b-2fbf7dded908",
   "metadata": {},
   "outputs": [
    {
     "name": "stdout",
     "output_type": "stream",
     "text": [
      "10.0\n"
     ]
    }
   ],
   "source": [
    "# Floating-Poin Conversion:\n",
    "value = 10\n",
    "float_value = float(value)\n",
    "print(float_value)"
   ]
  },
  {
   "cell_type": "code",
   "execution_count": 23,
   "id": "bc647fed-7a83-4ec9-8280-70b602af6111",
   "metadata": {},
   "outputs": [
    {
     "name": "stdout",
     "output_type": "stream",
     "text": [
      "10\n"
     ]
    }
   ],
   "source": [
    "# String Conversion:\n",
    "value = 10\n",
    "string_value = str(value)\n",
    "print(string_value)"
   ]
  },
  {
   "cell_type": "markdown",
   "id": "2f75224b-ef3a-4388-b507-6d6904199e27",
   "metadata": {},
   "source": [
    "10. Why does this expression cause an error? How can you fix it?\n",
    "'I have eaten ' + 99 + ' burritos.'\n"
   ]
  },
  {
   "cell_type": "code",
   "execution_count": null,
   "id": "bff0ce66-9c76-4f3a-8fea-13b637029060",
   "metadata": {},
   "outputs": [],
   "source": []
  },
  {
   "cell_type": "code",
   "execution_count": null,
   "id": "71272489-e8a1-4792-b60d-78d140effeae",
   "metadata": {},
   "outputs": [],
   "source": []
  }
 ],
 "metadata": {
  "kernelspec": {
   "display_name": "Python 3 (ipykernel)",
   "language": "python",
   "name": "python3"
  },
  "language_info": {
   "codemirror_mode": {
    "name": "ipython",
    "version": 3
   },
   "file_extension": ".py",
   "mimetype": "text/x-python",
   "name": "python",
   "nbconvert_exporter": "python",
   "pygments_lexer": "ipython3",
   "version": "3.11.7"
  }
 },
 "nbformat": 4,
 "nbformat_minor": 5
}

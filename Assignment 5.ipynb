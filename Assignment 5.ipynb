{
 "cells": [
  {
   "cell_type": "markdown",
   "id": "30e762e3-97d2-4e73-adc6-db6114356797",
   "metadata": {},
   "source": [
    "1. What does an empty dictionary's code look like?"
   ]
  },
  {
   "cell_type": "code",
   "execution_count": 1,
   "id": "7ed4e1b4-6718-4894-b9ca-b0be1bf027aa",
   "metadata": {},
   "outputs": [
    {
     "data": {
      "text/plain": [
       "dict"
      ]
     },
     "execution_count": 1,
     "metadata": {},
     "output_type": "execute_result"
    }
   ],
   "source": [
    "dict = {}\n",
    "type(dict)\n"
   ]
  },
  {
   "cell_type": "markdown",
   "id": "01f7e007-34cb-4a53-9626-3c1cdba54891",
   "metadata": {},
   "source": [
    "2. What is the value of a dictionary value with the key 'foo' and the value 42?"
   ]
  },
  {
   "cell_type": "code",
   "execution_count": 2,
   "id": "7aed787a-6503-4454-af1e-eebc0ac5065f",
   "metadata": {},
   "outputs": [
    {
     "data": {
      "text/plain": [
       "{'foo': 42}"
      ]
     },
     "execution_count": 2,
     "metadata": {},
     "output_type": "execute_result"
    }
   ],
   "source": [
    "{'foo':42}\n"
   ]
  },
  {
   "cell_type": "markdown",
   "id": "2a1754e4-7f98-4512-85e2-087f5aee6094",
   "metadata": {},
   "source": [
    "3. What is the most significant distinction between a dictionary and a list?"
   ]
  },
  {
   "cell_type": "markdown",
   "id": "34394360-a8bc-4aa4-9821-14abf78b3549",
   "metadata": {},
   "source": [
    "Most significant difference:\n",
    "List - items in list are Ordered\n",
    "Dictionary : iten in dictionary are unordered\n"
   ]
  },
  {
   "cell_type": "markdown",
   "id": "1d972c92-9d80-43de-8b9c-84f547df482b",
   "metadata": {},
   "source": [
    "4. What happens if you try to access spam['foo'] if spam is {'bar': 100}?"
   ]
  },
  {
   "cell_type": "code",
   "execution_count": 3,
   "id": "f7e844d8-b929-4aae-b320-51a0f10a12b8",
   "metadata": {},
   "outputs": [
    {
     "ename": "KeyError",
     "evalue": "'foo'",
     "output_type": "error",
     "traceback": [
      "\u001b[1;31m---------------------------------------------------------------------------\u001b[0m",
      "\u001b[1;31mKeyError\u001b[0m                                  Traceback (most recent call last)",
      "Cell \u001b[1;32mIn[3], line 2\u001b[0m\n\u001b[0;32m      1\u001b[0m spam \u001b[38;5;241m=\u001b[39m {\u001b[38;5;124m'\u001b[39m\u001b[38;5;124mbar\u001b[39m\u001b[38;5;124m'\u001b[39m:\u001b[38;5;241m100\u001b[39m}\n\u001b[1;32m----> 2\u001b[0m spam[\u001b[38;5;124m'\u001b[39m\u001b[38;5;124mfoo\u001b[39m\u001b[38;5;124m'\u001b[39m]\n",
      "\u001b[1;31mKeyError\u001b[0m: 'foo'"
     ]
    }
   ],
   "source": [
    "spam = {'bar':100}\n",
    "spam['foo']"
   ]
  },
  {
   "cell_type": "markdown",
   "id": "e0c79e5d-532f-44b3-9112-ba8a0c2de929",
   "metadata": {},
   "source": [
    "5. If a dictionary is stored in spam, what is the difference between the expressions 'cat' in spam and 'cat' in spam.keys()?"
   ]
  },
  {
   "cell_type": "code",
   "execution_count": 4,
   "id": "51658ccd-3483-449a-baa4-3e220d8d0e65",
   "metadata": {},
   "outputs": [
    {
     "data": {
      "text/plain": [
       "True"
      ]
     },
     "execution_count": 4,
     "metadata": {},
     "output_type": "execute_result"
    }
   ],
   "source": [
    "spam ={'cat':100}\n",
    "'cat' in spam\n"
   ]
  },
  {
   "cell_type": "code",
   "execution_count": 5,
   "id": "21dd7cf6-cc2e-4dc9-98b7-e3bc47054a5c",
   "metadata": {},
   "outputs": [
    {
     "data": {
      "text/plain": [
       "True"
      ]
     },
     "execution_count": 5,
     "metadata": {},
     "output_type": "execute_result"
    }
   ],
   "source": [
    "'cat' in spam.keys()\n"
   ]
  },
  {
   "cell_type": "markdown",
   "id": "99486342-4c36-4dd1-ad19-c50b107934fe",
   "metadata": {},
   "source": [
    "6. If a dictionary is stored in spam, what is the difference between the expressions 'cat' in spam and 'cat' in spam.values()?"
   ]
  },
  {
   "cell_type": "code",
   "execution_count": 6,
   "id": "51013a58-3f31-4a0b-8bd6-089914fee336",
   "metadata": {},
   "outputs": [
    {
     "data": {
      "text/plain": [
       "True"
      ]
     },
     "execution_count": 6,
     "metadata": {},
     "output_type": "execute_result"
    }
   ],
   "source": [
    "spam ={'cat':100}\n",
    "'cat' in spam\n"
   ]
  },
  {
   "cell_type": "code",
   "execution_count": 7,
   "id": "0815c643-7237-427b-ab59-8864ab826e69",
   "metadata": {},
   "outputs": [
    {
     "data": {
      "text/plain": [
       "False"
      ]
     },
     "execution_count": 7,
     "metadata": {},
     "output_type": "execute_result"
    }
   ],
   "source": [
    "spam ={'cat':100}\n",
    "'cat' in spam.values()\n",
    "\n",
    "#'cat' in spam checks whether there is a 'cat' key in the dictionary\n",
    "#'cat' in spam.values() checks whether there is a value 'cat' for one of the keys in spam.\n"
   ]
  },
  {
   "cell_type": "markdown",
   "id": "351d77b6-4cfa-43b6-bf23-227bb992a6a1",
   "metadata": {},
   "source": [
    "7. What is a shortcut for the following code?\n",
    "   if 'color' not in spam:\r",
    "   \n",
    "spam['color'] = 'black'\r\n"
   ]
  },
  {
   "cell_type": "code",
   "execution_count": 8,
   "id": "bc68fd82-3bc7-4b16-bff3-141f2ed3dca2",
   "metadata": {},
   "outputs": [
    {
     "data": {
      "text/plain": [
       "{'cat': 100, 'color': 'black'}"
      ]
     },
     "execution_count": 8,
     "metadata": {},
     "output_type": "execute_result"
    }
   ],
   "source": [
    "spam ={'cat':100}\n",
    "spam.setdefault('color','black')\n",
    "spam\n"
   ]
  },
  {
   "cell_type": "markdown",
   "id": "2e98d616-b0c4-46bb-b44d-8854a94a5c4e",
   "metadata": {},
   "source": [
    "8. How do you \"pretty print\" dictionary values using which module and function?"
   ]
  },
  {
   "cell_type": "code",
   "execution_count": 9,
   "id": "c5e1f3ea-2f77-4c57-bc02-c7de123f218a",
   "metadata": {},
   "outputs": [],
   "source": [
    "import pprint\n",
    "dct = [ {'Name': 'Shiva', 'Age': '23', 'Country': 'India'},\n",
    "  {'Name': 'Anna', 'Age': '44', 'Country': 'China'},\n",
    "  {'Name': 'Joe', 'Age': '29', 'Country': 'UK'},\n",
    "  {'Name': 'Chumlee', 'Age': '35', 'Country': 'USA'}\n",
    "]\n"
   ]
  },
  {
   "cell_type": "code",
   "execution_count": 10,
   "id": "d8a3daad-28a5-4942-acd3-f7609a2fafd1",
   "metadata": {},
   "outputs": [
    {
     "name": "stdout",
     "output_type": "stream",
     "text": [
      "[{'Age': '23', 'Country': 'India', 'Name': 'Shiva'},\n",
      " {'Age': '44', 'Country': 'China', 'Name': 'Anna'},\n",
      " {'Age': '29', 'Country': 'UK', 'Name': 'Joe'},\n",
      " {'Age': '35', 'Country': 'USA', 'Name': 'Chumlee'}]\n"
     ]
    }
   ],
   "source": [
    "pprint.pprint(dct)\n"
   ]
  },
  {
   "cell_type": "code",
   "execution_count": 12,
   "id": "36d0089c-06cb-4bdf-948b-2910e1a85576",
   "metadata": {},
   "outputs": [
    {
     "name": "stdout",
     "output_type": "stream",
     "text": [
      "[{'Name': 'Shiva', 'Age': '23', 'Country': 'India'}, {'Name': 'Anna', 'Age': '44', 'Country': 'China'}, {'Name': 'Joe', 'Age': '29', 'Country': 'UK'}, {'Name': 'Chumlee', 'Age': '35', 'Country': 'USA'}]\n"
     ]
    }
   ],
   "source": [
    "print(dct)\n"
   ]
  },
  {
   "cell_type": "code",
   "execution_count": null,
   "id": "da9680ca-2653-49c9-a576-0812c6e6227b",
   "metadata": {},
   "outputs": [],
   "source": [
    "\n",
    "## 1. What does the code for an empty dictionary look like?\n",
    "{}\n",
    "\n",
    "\n",
    "## 2. What does a dictionary value with a key 'foo' and a value 42 look like?\n",
    "\n",
    "tmp = {'foo': 42}\n",
    "\n",
    "\n",
    "## 3. What is the main difference between a dictionary and a list?\n",
    "\n",
    "The elements in a list are ordered, and the elements in a dictionary aren't.\n",
    "Also, elements in a list must be accessed using numerical indices. Elements in a dictionary are indexed using keys, which can have different data types. \n",
    "\n",
    "\n",
    "## 4. What happens if you try to access spam['foo'] if spam is {'bar': 100}?\n",
    "\n",
    "You will get a KeyError error.\n",
    "\n",
    "\n",
    "## 5. If a dictionary is stored in spam, what is the difference between the expressions 'cat' in spam and 'cat' in spam.keys()?\n",
    "\n",
    "There is no difference, the expression \" 'cat' in spam \" checks whether 'cat' is a key in spam.\n",
    "\n",
    "\n",
    "## 6. If a dictionary is stored in spam, what is the difference between the expressions 'cat' in spam and 'cat' in spam.values()?\n",
    "\n",
    "'cat' in spam checks whether'cat' exists as a key in spam. 'cat' in spam.values() checks whether 'cat' is a value in spam.\n",
    "\n",
    "\n",
    "## 7. What is a shortcut for the following code?\n",
    "if 'color' not in spam:\n",
    "    spam['color'] = 'black'\n",
    "\n",
    "spam.setdefault('color','black')\n",
    "\n",
    "\n",
    "## 8. What module and function can be used to “pretty print” dictionary values?\n",
    "\n",
    "The module is pprint.\n",
    "The functions are pprint.pprint() and pprint.pformat()."
   ]
  }
 ],
 "metadata": {
  "kernelspec": {
   "display_name": "Python 3 (ipykernel)",
   "language": "python",
   "name": "python3"
  },
  "language_info": {
   "codemirror_mode": {
    "name": "ipython",
    "version": 3
   },
   "file_extension": ".py",
   "mimetype": "text/x-python",
   "name": "python",
   "nbconvert_exporter": "python",
   "pygments_lexer": "ipython3",
   "version": "3.11.7"
  }
 },
 "nbformat": 4,
 "nbformat_minor": 5
}

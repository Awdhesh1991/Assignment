{
 "cells": [
  {
   "cell_type": "markdown",
   "id": "41c394da-623a-49e3-aeb3-e1ea6c8fce8d",
   "metadata": {},
   "source": [
    "1. What exactly is []?"
   ]
  },
  {
   "cell_type": "markdown",
   "id": "f7d911dd-93de-47f8-8c9d-910d3254e0f3",
   "metadata": {},
   "source": [
    "this is a symbol of empty list  []  :"
   ]
  },
  {
   "cell_type": "markdown",
   "id": "65821f23-688c-440b-ac62-489fa78a49d8",
   "metadata": {},
   "source": [
    "Ans : - [ ] is a empty list, like a =[ ]"
   ]
  },
  {
   "cell_type": "markdown",
   "id": "fd9de3ec-9056-4e5a-ac1d-4202927a4990",
   "metadata": {},
   "source": [
    "2. In a list of values stored in a variable called spam, how would you assign the value 'hello' as the third value? \n",
    "(Assume [2, 4, 6, 8, 10] are in spam.)"
   ]
  },
  {
   "cell_type": "code",
   "execution_count": 1,
   "id": "89cb5825-d405-4e13-ba41-86a3aa124924",
   "metadata": {},
   "outputs": [
    {
     "data": {
      "text/plain": [
       "[2, 4, 'hello', 8, 10]"
      ]
     },
     "execution_count": 1,
     "metadata": {},
     "output_type": "execute_result"
    }
   ],
   "source": [
    "# solution by changing the value in index 3\n",
    "spam = [2, 4, 6, 8, 10]\n",
    "spam[2] = 'hello'\n",
    "spam\n"
   ]
  },
  {
   "cell_type": "markdown",
   "id": "2010905d-e204-4687-8164-40989f36b1e9",
   "metadata": {},
   "source": [
    "Lets pretend the spam includes the list ['a', 'b','c','d'] for the next three queries."
   ]
  },
  {
   "cell_type": "markdown",
   "id": "3556403a-de3b-48ff-9acc-d0dfb018b7ef",
   "metadata": {},
   "source": [
    "3. What is the value of spam[int(int('3' * 2) / 11)]?"
   ]
  },
  {
   "cell_type": "code",
   "execution_count": 2,
   "id": "6a373c13-3df7-4921-bd68-72fe31b01b98",
   "metadata": {},
   "outputs": [
    {
     "data": {
      "text/plain": [
       "'d'"
      ]
     },
     "execution_count": 2,
     "metadata": {},
     "output_type": "execute_result"
    }
   ],
   "source": [
    "spam = ['a', 'b','c','d']\n",
    "spam[int(int('3' * 2) / 11)]"
   ]
  },
  {
   "cell_type": "markdown",
   "id": "0f24f515-f908-49a8-aad7-e7478bcc2049",
   "metadata": {},
   "source": [
    "4. What is the value of spam[-1]?"
   ]
  },
  {
   "cell_type": "code",
   "execution_count": 3,
   "id": "142dbd29-87cf-4e14-989f-bdbc624134c5",
   "metadata": {},
   "outputs": [
    {
     "data": {
      "text/plain": [
       "'d'"
      ]
     },
     "execution_count": 3,
     "metadata": {},
     "output_type": "execute_result"
    }
   ],
   "source": [
    "spam = ['a', 'b','c','d']\n",
    "spam[-1]"
   ]
  },
  {
   "cell_type": "markdown",
   "id": "580c2a76-9c62-4790-a90d-985b2fa5f613",
   "metadata": {},
   "source": [
    "5. What is the value of spam[:2]?"
   ]
  },
  {
   "cell_type": "code",
   "execution_count": 4,
   "id": "37c7dbca-fa23-4c24-abce-20e6055ee223",
   "metadata": {},
   "outputs": [
    {
     "data": {
      "text/plain": [
       "['a', 'b']"
      ]
     },
     "execution_count": 4,
     "metadata": {},
     "output_type": "execute_result"
    }
   ],
   "source": [
    "spam[:2]"
   ]
  },
  {
   "cell_type": "markdown",
   "id": "22efacbc-e6aa-4662-aeae-a401e5fd71c5",
   "metadata": {},
   "source": [
    "Let's pretend bacon has the list [3.14, 'cat,' 11, 'cat,' True] for the next three questions."
   ]
  },
  {
   "cell_type": "markdown",
   "id": "fb043a03-30a4-4423-9713-309416e7a4aa",
   "metadata": {},
   "source": [
    "6. What is the value of bacon.index('cat')?"
   ]
  },
  {
   "cell_type": "code",
   "execution_count": 5,
   "id": "86bd6242-3b4a-48cd-a22e-a70faa8196b2",
   "metadata": {},
   "outputs": [
    {
     "data": {
      "text/plain": [
       "1"
      ]
     },
     "execution_count": 5,
     "metadata": {},
     "output_type": "execute_result"
    }
   ],
   "source": [
    "bacon = [3.14, 'cat', 11, 'cat', True]\n",
    "bacon.index('cat')"
   ]
  },
  {
   "cell_type": "markdown",
   "id": "8eb79025-b79a-49eb-84c1-b1009bd7385d",
   "metadata": {},
   "source": [
    "7. How does bacon.append(99) change the look of the list value in bacon?"
   ]
  },
  {
   "cell_type": "code",
   "execution_count": 6,
   "id": "404f61b4-b409-4964-89ee-3f598eaa67c1",
   "metadata": {},
   "outputs": [
    {
     "data": {
      "text/plain": [
       "[3.14, 'cat', 11, 'cat', True, 99]"
      ]
     },
     "execution_count": 6,
     "metadata": {},
     "output_type": "execute_result"
    }
   ],
   "source": [
    "bacon = [3.14, 'cat', 11, 'cat', True]\n",
    "bacon.append(99)\n",
    "bacon"
   ]
  },
  {
   "cell_type": "markdown",
   "id": "4c99023f-ff81-4be3-84fc-22d8d4e748c8",
   "metadata": {},
   "source": [
    "8. How does bacon.remove('cat') change the look of the list in bacon?"
   ]
  },
  {
   "cell_type": "code",
   "execution_count": 7,
   "id": "063d25d0-0e9e-429b-953f-8823c55bf6db",
   "metadata": {},
   "outputs": [
    {
     "data": {
      "text/plain": [
       "[3.14, 11, 'cat', True]"
      ]
     },
     "execution_count": 7,
     "metadata": {},
     "output_type": "execute_result"
    }
   ],
   "source": [
    "bacon = [3.14, 'cat', 11, 'cat', True]\n",
    "bacon.remove('cat')\n",
    "bacon"
   ]
  },
  {
   "cell_type": "markdown",
   "id": "5b319bd5-cf6a-43d4-9002-4d7fe3714e41",
   "metadata": {},
   "source": [
    "9. What are the list concatenation and list replication operators?\n",
    "    ( * ) is list replication operator ( + ) is list concatination operator\r\n"
   ]
  },
  {
   "cell_type": "code",
   "execution_count": 8,
   "id": "c652e75a-9393-4216-8649-c299bc88d58b",
   "metadata": {},
   "outputs": [
    {
     "data": {
      "text/plain": [
       "[1, 4, 2, 5]"
      ]
     },
     "execution_count": 8,
     "metadata": {},
     "output_type": "execute_result"
    }
   ],
   "source": [
    "l1 = [1,4]\n",
    "l2 = [2,5]\n",
    "l1+l2"
   ]
  },
  {
   "cell_type": "code",
   "execution_count": 9,
   "id": "e9ae218f-ab4a-4fc1-8892-600be8667c4e",
   "metadata": {},
   "outputs": [
    {
     "data": {
      "text/plain": [
       "[7, 4, 7, 4, 7, 4]"
      ]
     },
     "execution_count": 9,
     "metadata": {},
     "output_type": "execute_result"
    }
   ],
   "source": [
    "l1 = [7,4]\n",
    "l1*3"
   ]
  },
  {
   "cell_type": "markdown",
   "id": "4462fa1d-9e4e-4f1a-b6a5-278444ec562e",
   "metadata": {},
   "source": [
    "10. What is difference between the list methods append() and insert()?"
   ]
  },
  {
   "cell_type": "markdown",
   "id": "f06bdb6a-1fd5-489c-bcf7-4f25a8c9af90",
   "metadata": {},
   "source": [
    "append() Appends object to the end of the list\n",
    "insert() Insert object before index"
   ]
  },
  {
   "cell_type": "code",
   "execution_count": 10,
   "id": "f22b8282-9512-48cc-aaf1-b1f42c66d7b7",
   "metadata": {},
   "outputs": [
    {
     "data": {
      "text/plain": [
       "[3.14, 'cat', 11, 'cat', True, 99]"
      ]
     },
     "execution_count": 10,
     "metadata": {},
     "output_type": "execute_result"
    }
   ],
   "source": [
    "bacon = [3.14, 'cat', 11, 'cat', True]\n",
    "bacon.append(99)\n",
    "bacon"
   ]
  },
  {
   "cell_type": "code",
   "execution_count": 13,
   "id": "521f6b0c-d20b-460e-a973-63b9fa8a5ba7",
   "metadata": {},
   "outputs": [
    {
     "data": {
      "text/plain": [
       "[2, 'hello', 4, 6, 8, 10]"
      ]
     },
     "execution_count": 13,
     "metadata": {},
     "output_type": "execute_result"
    }
   ],
   "source": [
    "spam = [2, 4, 6, 8, 10]\n",
    "spam.insert(1,'hello')\n",
    "spam"
   ]
  },
  {
   "cell_type": "markdown",
   "id": "66ab69ca-09d7-46af-8ec0-213e0901e52c",
   "metadata": {},
   "source": [
    "11. What are the two methods for removing items from a list?"
   ]
  },
  {
   "cell_type": "code",
   "execution_count": 14,
   "id": "558805bc-bdff-4e34-a211-81568bb5fd2b",
   "metadata": {},
   "outputs": [
    {
     "data": {
      "text/plain": [
       "[3.14, 11, 'cat', True]"
      ]
     },
     "execution_count": 14,
     "metadata": {},
     "output_type": "execute_result"
    }
   ],
   "source": [
    "#remove(item)\n",
    "bacon = [3.14, 'cat', 11, 'cat', True]\n",
    "bacon.remove('cat')\n",
    "bacon"
   ]
  },
  {
   "cell_type": "code",
   "execution_count": 15,
   "id": "68b5d29f-9014-4448-833c-96c0d1f3e380",
   "metadata": {},
   "outputs": [
    {
     "data": {
      "text/plain": [
       "[3.14, 'cat', 11, 'cat']"
      ]
     },
     "execution_count": 15,
     "metadata": {},
     "output_type": "execute_result"
    }
   ],
   "source": [
    "#pop\n",
    "bacon = [3.14, 'cat', 11, 'cat', True]\n",
    "bacon.pop()\n",
    "bacon"
   ]
  },
  {
   "cell_type": "markdown",
   "id": "6bd8e0fa-5b54-4ecf-b76c-4bdb13ec1fac",
   "metadata": {},
   "source": [
    "12. Describe how list values and string values are identical."
   ]
  },
  {
   "cell_type": "markdown",
   "id": "5342493d-88a1-4038-a91b-35a53aa82bb0",
   "metadata": {},
   "source": [
    "1.Both lists and strings can be passed to len()\n",
    "2.Have indexes and slices\n",
    "3.Can be used in for loops\n",
    "4.Can be concatenated or replicated\n",
    "5.Can be used with the in and not in operators"
   ]
  },
  {
   "cell_type": "markdown",
   "id": "5698d0ea-d32a-48f1-8950-adbe0a6ef000",
   "metadata": {},
   "source": [
    "13. What's the difference between tuples and lists?"
   ]
  },
  {
   "cell_type": "markdown",
   "id": "b1cef6d3-fb4c-4e23-8377-a4a64f7c4241",
   "metadata": {},
   "source": [
    "Lists : are mutable - they can have values added, removed, or changed. lists use the square brackets, [ and ]\n",
    "Tuples : are immutable; they cannot be changed at all. Tuples are written using parentheses, ( and )"
   ]
  },
  {
   "cell_type": "markdown",
   "id": "de9d9f32-ecfc-4531-99d7-6f39d79e13af",
   "metadata": {},
   "source": [
    "14. How do you type a tuple value that only contains the integer 42?"
   ]
  },
  {
   "cell_type": "code",
   "execution_count": 16,
   "id": "53c8d68f-f1d6-4ecd-9e7b-1871e3310395",
   "metadata": {},
   "outputs": [
    {
     "data": {
      "text/plain": [
       "(42,)"
      ]
     },
     "execution_count": 16,
     "metadata": {},
     "output_type": "execute_result"
    }
   ],
   "source": [
    "tuple = (42,)\n",
    "tuple"
   ]
  },
  {
   "cell_type": "markdown",
   "id": "c33bdc80-c0a7-4f93-ae92-44f4eabebc04",
   "metadata": {},
   "source": [
    "15. How do you get a list value's tuple form? How do you get a tuple value's list form?"
   ]
  },
  {
   "cell_type": "code",
   "execution_count": 27,
   "id": "c5a95375-4983-4bf3-9512-9d97fc33146b",
   "metadata": {},
   "outputs": [
    {
     "ename": "TypeError",
     "evalue": "'tuple' object is not callable",
     "output_type": "error",
     "traceback": [
      "\u001b[1;31m---------------------------------------------------------------------------\u001b[0m",
      "\u001b[1;31mTypeError\u001b[0m                                 Traceback (most recent call last)",
      "Cell \u001b[1;32mIn[27], line 2\u001b[0m\n\u001b[0;32m      1\u001b[0m L1 \u001b[38;5;241m=\u001b[39m [\u001b[38;5;241m2\u001b[39m,\u001b[38;5;241m3\u001b[39m]\n\u001b[1;32m----> 2\u001b[0m L \u001b[38;5;241m=\u001b[39m \u001b[38;5;28mtuple\u001b[39m(L1)\n\u001b[0;32m      3\u001b[0m \u001b[38;5;28mprint\u001b[39m(L)\n",
      "\u001b[1;31mTypeError\u001b[0m: 'tuple' object is not callable"
     ]
    }
   ],
   "source": [
    "L1 = [2,3]\n",
    "L = tuple(L1)\n",
    "print(L)"
   ]
  },
  {
   "cell_type": "code",
   "execution_count": 26,
   "id": "41c52e54-aa06-41b9-9467-a149593e3ec2",
   "metadata": {},
   "outputs": [
    {
     "name": "stdout",
     "output_type": "stream",
     "text": [
      "(3, 4)\n"
     ]
    }
   ],
   "source": [
    "t1 = (3,4)\n",
    "t = list(t1)\n",
    "print(t1)"
   ]
  },
  {
   "cell_type": "markdown",
   "id": "de4caf50-858f-465e-922c-ec77f4eb59f8",
   "metadata": {},
   "source": [
    "16. Variables that \"contain\" list values are not necessarily lists themselves. Instead, what do they contain?"
   ]
  },
  {
   "cell_type": "markdown",
   "id": "48ed1b45-890b-46c9-a07b-1010fd5b07e1",
   "metadata": {},
   "source": [
    "Ans. They contain references to list values"
   ]
  },
  {
   "cell_type": "markdown",
   "id": "bd264ef7-f33f-4494-89ed-126d4df4b39c",
   "metadata": {},
   "source": [
    "17. How do you distinguish between copy.copy() and copy.deepcopy()?"
   ]
  },
  {
   "cell_type": "markdown",
   "id": "a8fe398b-d944-46c6-98b8-748141ef17ac",
   "metadata": {},
   "source": [
    "Ans . The copy.copy() function will do a shallow copy of a list,\n",
    "The copy.deepcopy() function will do a deep copy of a list. only copy.deepcopy() will duplicate any lists inside the list"
   ]
  },
  {
   "cell_type": "code",
   "execution_count": null,
   "id": "0fdb694c-1e0e-49e2-9042-5e8e39cf54b9",
   "metadata": {},
   "outputs": [],
   "source": []
  },
  {
   "cell_type": "code",
   "execution_count": null,
   "id": "5e65ad5b-d3d3-40b5-9ae8-29c32a362c5f",
   "metadata": {},
   "outputs": [],
   "source": []
  }
 ],
 "metadata": {
  "kernelspec": {
   "display_name": "Python 3 (ipykernel)",
   "language": "python",
   "name": "python3"
  },
  "language_info": {
   "codemirror_mode": {
    "name": "ipython",
    "version": 3
   },
   "file_extension": ".py",
   "mimetype": "text/x-python",
   "name": "python",
   "nbconvert_exporter": "python",
   "pygments_lexer": "ipython3",
   "version": "3.11.7"
  }
 },
 "nbformat": 4,
 "nbformat_minor": 5
}

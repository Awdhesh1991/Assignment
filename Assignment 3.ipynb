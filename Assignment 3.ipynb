{
 "cells": [
  {
   "cell_type": "markdown",
   "id": "bf5eacb9-eaa8-4262-9476-3eac21c0b132",
   "metadata": {},
   "source": [
    "1. Why are functions advantageous to have in your programs?"
   ]
  },
  {
   "cell_type": "markdown",
   "id": "546eb8e8-e0ef-4442-92fd-82d16f77a83e",
   "metadata": {},
   "source": [
    "Using a function, it is possible to reduce the size of a program by calling and using the function at different places in the program. \n",
    "Functions help in code modularity, which means that the entire code is divided into separate blocks, \n",
    "each of which is self-contained and performs a different task.\n"
   ]
  },
  {
   "cell_type": "markdown",
   "id": "9ccdece4-625e-4e3a-9993-4d876d5eca6d",
   "metadata": {},
   "source": [
    "Functions offer several advantages in programming:\n",
    "\n",
    "    1. Modularity: Functions allow you to break down your code into smaller, manageable pieces. Each function can perform a specific task, \n",
    "       making the overall program structure more organized and easier to understand.\n",
    "    \n",
    "    2. Reusability: Once you define a function, you can reuse it multiple times in your program without rewriting the same code. \n",
    "       This promotes code reuse and helps avoid redundancy, making your code more efficient and easier to maintain.\n",
    "    \n",
    "    3. Abstraction: Functions provide an abstraction layer that hides the implementation details of a specific task. \n",
    "       You can call a function to perform a task without needing to understand how it's \n",
    "       implemented internally, which simplifies the overall programming process.\n",
    "    \n",
    "    4. Readability: By using descriptive function names and dividing your code into smaller functions, you improve the readability of your code. \n",
    "       Functions make it easier for other developers (and yourself) to understand the purpose of different parts of the program.\n",
    "    \n",
    "    5. Testing and Debugging:  Functions make it easier to test and debug your code. Since each function performs a specific task, \n",
    "       you can isolate and test individual functions independently, which simplifies the debugging process and helps identify and fix errors more \n",
    "       efficiently.\n",
    "    \n",
    "    6. Encapsulation:  Functions encapsulate related pieces of code, allowing you to manage complexity by breaking down a large problem into smaller, \n",
    "       more manageable components. This also helps enforce modularity and maintainability in your codebase.\n",
    "    \n",
    "    7. Scalability: As your program grows in complexity, functions allow you to scale your codebase by adding new functions to handle new features or \n",
    "       functionalities. This modular approach makes it easier to extend and maintain your code over time.\n",
    "\n",
    "Overall, functions are a fundamental building block of programming that contribute to code organization, reusability, readability, \n",
    "and maintainability, ultimately leading to more efficient and manageable software development."
   ]
  },
  {
   "cell_type": "markdown",
   "id": "52c7d959-4fd7-44d4-93e1-d8b127306afd",
   "metadata": {},
   "source": [
    "2. When does the code in a function run: when it's specified or when it's called?"
   ]
  },
  {
   "cell_type": "markdown",
   "id": "18330e04-e2c0-449d-95c3-e067e1520b5a",
   "metadata": {},
   "source": [
    "Function Call: \n",
    "        When you want to execute the code inside the function, \n",
    "        you call the function by using its name followed by parentheses containing any arguments (if the function accepts parameters). \n",
    "        This is when the code inside the function's code block is actually executed.\n"
   ]
  },
  {
   "cell_type": "code",
   "execution_count": 1,
   "id": "a7b8e71f-8a98-4ec8-ad01-d83e2c64c7c6",
   "metadata": {},
   "outputs": [
    {
     "name": "stdout",
     "output_type": "stream",
     "text": [
      "Hello, Awdhesh\n"
     ]
    }
   ],
   "source": [
    "def greeting(name):\n",
    "    print(\"Hello,\", name)\n",
    "greeting(\"Awdhesh\")"
   ]
  },
  {
   "cell_type": "markdown",
   "id": "41f6bbfb-2d66-4b1c-a4a4-9bc36f39ba00",
   "metadata": {},
   "source": [
    "3. What statement creates a function?"
   ]
  },
  {
   "cell_type": "markdown",
   "id": "8cca97e7-68be-4594-bd54-6fb2d37c32cd",
   "metadata": {},
   "source": [
    "The code in a function executes when the function is called, not when the function is defined. \n",
    "What statement creates a function? The def statement defines (that is, creates) a function.\n"
   ]
  },
  {
   "cell_type": "markdown",
   "id": "864456f7-ddbc-4794-b26a-a645477967db",
   "metadata": {},
   "source": [
    "4. What is the difference between a function and a function call?"
   ]
  },
  {
   "cell_type": "markdown",
   "id": "24f512b4-0d0a-45e1-8b3c-9e2da134a998",
   "metadata": {},
   "source": [
    "In summary, a function is a block of code that performs a specific task, \n",
    "while a function call is an expression that invokes a function and executes the code in the function.\n"
   ]
  },
  {
   "cell_type": "markdown",
   "id": "242c196a-9c4f-4a63-9111-500c3ab5d4f4",
   "metadata": {},
   "source": [
    "5. How many global scopes are there in a Python program? How many local scopes?"
   ]
  },
  {
   "cell_type": "markdown",
   "id": "e8716b72-b79a-42a2-866c-aa58e37236d8",
   "metadata": {},
   "source": [
    "At any given time during execution, you'll have at most four active Python scopes—local, enclosing, global, and built-in—depending on where you are \n",
    "in the code. On the other hand, you'll always have at least two active scopes, which are the global and built-in scopes.\n"
   ]
  },
  {
   "cell_type": "markdown",
   "id": "0f27346f-1d58-4f94-9078-05808fe479b8",
   "metadata": {},
   "source": [
    "6. What happens to variables in a local scope when the function call returns?"
   ]
  },
  {
   "cell_type": "markdown",
   "id": "937ec0b7-abf6-4fb6-a105-32a7f7352ea0",
   "metadata": {},
   "source": [
    "When the execution of the function terminates (returns), the local variables are destroyed. Codelens helps you visualize this because the local variables disappear after the function returns.\r\n"
   ]
  },
  {
   "cell_type": "markdown",
   "id": "5aeb6b40-4558-47ed-8e2a-69ac1228a336",
   "metadata": {},
   "source": [
    "7. What is the concept of a return value? Is it possible to have a return value in an expression?"
   ]
  },
  {
   "cell_type": "markdown",
   "id": "881419d3-549f-4e97-8380-3608c7692fd5",
   "metadata": {},
   "source": [
    "A return statement is used to end the execution of the function call and “returns” the result (value of the expression following the return keyword) \n",
    "to the caller. The statements after the return statements are not executed. If the return statement is without any expression, then the special value \n",
    "None is returned. A return statement is overall used to invoke a function so that the passed statements can be executed.\n",
    "\n"
   ]
  },
  {
   "cell_type": "markdown",
   "id": "9287cacf-9598-4d77-b7ec-b83ade31faa8",
   "metadata": {},
   "source": [
    "8. If a function does not have a return statement, what is the return value of a call to that function?"
   ]
  },
  {
   "cell_type": "markdown",
   "id": "8d37b97f-ec4d-4baf-8498-053ab8fe2436",
   "metadata": {},
   "source": [
    "Regardless of how long and complex your functions are, any function without an explicit return statement, \n",
    "or one with a return statement without a return value, will return None .\n"
   ]
  },
  {
   "cell_type": "markdown",
   "id": "85f9820e-035c-46bd-baa5-954902a5adaa",
   "metadata": {},
   "source": [
    "9. How do you make a function variable refer to the global variable?"
   ]
  },
  {
   "cell_type": "markdown",
   "id": "99582f28-eec9-4614-8c15-980ab6e67d37",
   "metadata": {},
   "source": [
    "Normally, when you create a variable inside a function, that variable is local, and can only be used inside that function. To create a global variable inside a function, you can use the global keyword.\r\n",
    "\n",
    "\n",
    "To make afunction variable refer to a global variable in Python, you can use the global keyword within the function to explicitly declare that \n",
    "the variable being referenced is a global variable. This allows you to modify the global variable from within the function\n"
   ]
  },
  {
   "cell_type": "markdown",
   "id": "de42553a-3d93-439b-adf5-93ea09e5e637",
   "metadata": {},
   "source": [
    "10. What is the data type of None?"
   ]
  },
  {
   "cell_type": "markdown",
   "id": "41533936-7cf4-4f6d-9ecd-9d2d50670141",
   "metadata": {},
   "source": [
    "The None keyword is used to define a null value, or no value at all. None is not the same as 0, False, \n",
    "or an empty string. None is a data type of its own (NoneType) and only None can be None.\n"
   ]
  },
  {
   "cell_type": "markdown",
   "id": "a2ade6be-36ea-40a4-b333-1fd6a3ead5b4",
   "metadata": {},
   "source": [
    "11. What does the sentence import areallyourpetsnamederic do?"
   ]
  },
  {
   "cell_type": "code",
   "execution_count": null,
   "id": "155d6cd2-175d-4f66-9384-1f51622a4dcf",
   "metadata": {},
   "outputs": [],
   "source": []
  },
  {
   "cell_type": "markdown",
   "id": "292a7d84-0635-4d4c-8830-bad3801ca601",
   "metadata": {},
   "source": [
    "12. If you had a bacon() feature in a spam module, what would you call it after importing spam?"
   ]
  },
  {
   "cell_type": "markdown",
   "id": "245ef1cc-3dd0-464b-b687-baec28641835",
   "metadata": {},
   "source": [
    "If you had a function named bacon() inside a module named spam, how would you call it after importing spam? \n",
    "This function can be called with spam. bacon().\n"
   ]
  },
  {
   "cell_type": "markdown",
   "id": "b28991bd-5dd1-4662-b7c0-43275c04e698",
   "metadata": {},
   "source": [
    "13. What can you do to save a programme from crashing if it encounters an error?"
   ]
  },
  {
   "cell_type": "markdown",
   "id": "506626e3-fa37-4f25-863c-ee04bbcb0fc1",
   "metadata": {},
   "source": [
    "To prevent a program from crashing when it encounters an error, you can implement error handling mechanisms. \n",
    "In Python, this is typically done using try-except blocks.\n"
   ]
  },
  {
   "cell_type": "code",
   "execution_count": 2,
   "id": "e4122e6d-9f9c-44c9-a754-b29bb7f2e5c9",
   "metadata": {},
   "outputs": [
    {
     "name": "stdout",
     "output_type": "stream",
     "text": [
      "An error occurred: division by zero\n"
     ]
    }
   ],
   "source": [
    "try:\n",
    "    result = 10 / 0 \n",
    "except Exception as e:\n",
    "    print(\"An error occurred:\", e)\n"
   ]
  },
  {
   "cell_type": "markdown",
   "id": "ac7849c4-0203-480f-90dd-aa8e8f653139",
   "metadata": {},
   "source": [
    "14. What is the purpose of the try clause? What is the purpose of the except clause?"
   ]
  },
  {
   "cell_type": "markdown",
   "id": "7b0bc4e9-fe3a-42a4-b3a9-6b3f3293b756",
   "metadata": {},
   "source": [
    "A Try-Except statement is a code block that allows your program to take alternative actions in case an error occurs. \n",
    "Python will first attempt to execute the code in the try statement (code block 1). If no exception occurs, \n",
    "the except statement is skipped and the execution of the try statement is finished.\n"
   ]
  },
  {
   "cell_type": "code",
   "execution_count": null,
   "id": "ae15683e-4122-494c-a0d4-2119ba82bff6",
   "metadata": {},
   "outputs": [],
   "source": []
  },
  {
   "cell_type": "code",
   "execution_count": null,
   "id": "92490432-d1d5-46fb-b9be-f5f4c446cfec",
   "metadata": {},
   "outputs": [],
   "source": []
  }
 ],
 "metadata": {
  "kernelspec": {
   "display_name": "Python 3 (ipykernel)",
   "language": "python",
   "name": "python3"
  },
  "language_info": {
   "codemirror_mode": {
    "name": "ipython",
    "version": 3
   },
   "file_extension": ".py",
   "mimetype": "text/x-python",
   "name": "python",
   "nbconvert_exporter": "python",
   "pygments_lexer": "ipython3",
   "version": "3.11.7"
  }
 },
 "nbformat": 4,
 "nbformat_minor": 5
}

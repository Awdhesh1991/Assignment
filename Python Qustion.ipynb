{
 "cells": [
  {
   "cell_type": "markdown",
   "id": "0da07ef0-a030-45c1-a074-9bfb24f33146",
   "metadata": {},
   "source": [
    "1.\tWhat is python?"
   ]
  },
  {
   "cell_type": "markdown",
   "id": "cbd3cfe7-e0fd-44e8-bd29-22b67b2aa0e0",
   "metadata": {},
   "source": [
    "* Python is a high-level, interpreted programming language known for its simplicity and readability. \n",
    "It was created by Guido van Rossum and first released in 1991. \n",
    "Python supports multiple programming paradigms, including procedural, object-oriented, and functional programming styles. \n",
    "It has a comprehensive standard library and a vibrant ecosystem of third-party packages, making it suitable for a wide range of applications, \n",
    "including web development, data analysis, artificial intelligence, scientific computing, automation, and more. \n",
    "Python's syntax emphasizes code readability and clarity, which contributes to its popularity among developers.\n",
    "\n",
    "* Python is an interpreted, object-oriented, high-level programming language with dynamic semantics. Its high-level built in data structures, combined with dynamic typing and dynamic binding, make it very attractive for Rapid Application Development, as well as for use as a scripting or glue language to connect existing components together. Python's simple, easy to learn syntax emphasizes readability and therefore reduces the cost of program maintenance. Python supports modules and packages, which encourages program modularity and code reuse. The Python interpreter and the extensive standard library are available in source or binary form without charge for all major platforms, and can be freely distributed.\r",
    "\r\n",
    "\n"
   ]
  },
  {
   "cell_type": "markdown",
   "id": "8c654eaa-16c9-471c-90e1-cff9ee7e01e8",
   "metadata": {},
   "source": [
    "2.\tDifference between compiled and interpreted language?"
   ]
  },
  {
   "cell_type": "markdown",
   "id": "aaa11c45-5559-4279-8442-711c75bf57c6",
   "metadata": {},
   "source": [
    "A compiled language is converted into machine code so that the processor can execute it. \n",
    "An interpreted language is a language in which the implementations execute instructions \n",
    "directly without earlier compiling a program into machine language.\n"
   ]
  },
  {
   "cell_type": "markdown",
   "id": "c53c0cb0-253c-4c76-9161-81b159e441dd",
   "metadata": {},
   "source": [
    "1.\tCOMPILED LANGUAGE :\n",
    "    a. A compiled language is a programming language whose implementations are typically compilers and not interpreters.\t\n",
    "    b. In this language, once the program is compiled it is expressed in the instructions of the target machine.\t\n",
    "    c. There are at least two steps to get from source code to execution.\t\n",
    "    d. In this language, compiled programs run faster than interpreted programs.\t\n",
    "    e. In this language, compilation errors prevent the code from compiling.\t\n",
    "    f. The code of compiled language can be executed directly by the computer’s CPU.\t\n",
    "    g. This language delivers better performance.\t\n",
    "     "
   ]
  },
  {
   "cell_type": "markdown",
   "id": "980de5fc-5220-477b-9b98-01abcec99e6f",
   "metadata": {},
   "source": [
    "2. INTERPRETED LANGUAGE\n",
    "    a. An interpreted language is a programming language whose implementations execute instructions directly and freely, \n",
    "       without previously compiling a program into machine-language instructions.\n",
    "    b. While in this language, the instructions are not directly executed by the target machine.\n",
    "    c. There is only one step to get from source code to execution.\n",
    "    d. While in this language, interpreted programs can be modified while the program is running.\n",
    "    e. In this languages, all the debugging occurs at run-time.\n",
    "    f. A program written in an interpreted language is not compiled, it is interpreted.\n",
    "    g. This language example delivers relatively slower performance.\n",
    "\n"
   ]
  },
  {
   "cell_type": "markdown",
   "id": "e087a2b7-c069-4633-8598-91bcdabfe394",
   "metadata": {},
   "source": [
    "3.\tWhat is strongly typed language and weekly typed language?"
   ]
  },
  {
   "cell_type": "markdown",
   "id": "90f6379e-6c22-424b-9a08-95852edfbd71",
   "metadata": {},
   "source": [
    "Strongly Typed Language:\n",
    "    \n",
    "    * In a strongly typed language, strict rules are enforced regarding data types. \n",
    "      This means that variables must be declared with a specific data type, \n",
    "      and operations involving different data types may require explicit type conversion.\n",
    "    * Strong typing helps catch errors at compile time and promotes code clarity and reliability by ensuring \n",
    "      that data is used in a consistent and predictable manner.\n",
    "    "
   ]
  },
  {
   "cell_type": "markdown",
   "id": "86fc08cf-7b25-4566-afdd-2558e9777079",
   "metadata": {},
   "source": [
    "Weakly Typed Language (also known as loosely typed or dynamically typed):\n",
    "    \n",
    "    * In a weakly typed language, data types are more flexible, and type conversions are often performed implicitly by the language runtime. \n",
    "      This means that variables can change types dynamically, and operations between different data types are often allowed without explicit conversion.\n",
    "    * Weak typing can lead to more concise and flexible code but may also introduce potential runtime errors if \n",
    "      type conversions are not handled properly.\n",
    "\n",
    "\n"
   ]
  },
  {
   "cell_type": "markdown",
   "id": "06523463-31d1-4776-a2c3-85cd07f1a783",
   "metadata": {},
   "source": [
    "4.\tWhat do you mean by dynamically typed language and statically typed language?"
   ]
  },
  {
   "cell_type": "markdown",
   "id": "c7ce71c2-18a3-4917-a84e-6acff0263db4",
   "metadata": {},
   "source": [
    "First, dynamically-typed languages perform type checking at runtime, while statically typed languages perform type checking at compile time.\n"
   ]
  },
  {
   "cell_type": "markdown",
   "id": "4911444e-381a-4e2e-a43e-68be268feddb",
   "metadata": {},
   "source": [
    "5.\tWhat is indentation in python?  "
   ]
  },
  {
   "cell_type": "markdown",
   "id": "44a71741-758b-43a8-868c-64754247b317",
   "metadata": {},
   "source": [
    "Indentation refers to the spaces at the beginning of a code line. \n",
    "Where in other programming languages the indentation in code is for readability only, \n",
    "the indentation in Python is very important. Python uses indentation to indicate a block of code.\n"
   ]
  },
  {
   "cell_type": "markdown",
   "id": "e7146698-2894-41c2-9d84-a65fa753e243",
   "metadata": {},
   "source": [
    "In Python, indentation refers to the spaces or tabs placed at the beginning of a line to define the structure and scope of code blocks. \n",
    "Unlike many other programming languages, which use braces or keywords to delineate blocks of code, Python uses indentation for this purpose. \n",
    "This indentation is not just for visual clarity; it is a fundamental part of Python's syntax and determines the grouping of statements.\n",
    "\n"
   ]
  },
  {
   "cell_type": "markdown",
   "id": "bc535191-699a-47b0-8bc1-4ae7591295cd",
   "metadata": {},
   "source": [
    "6.\tWhat Is pep8"
   ]
  },
  {
   "cell_type": "markdown",
   "id": "1e237333-e1d8-4507-b207-d1a542598fec",
   "metadata": {},
   "source": [
    "PEP 8, sometimes spelled PEP8 or PEP-8, is a document that provides guidelines and best practices on how to write Python code. \n",
    "It was written in 2001 by Guido van Rossum, Barry Warsaw, and Alyssa Coghlan. \n",
    "The primary focus of PEP 8 is to improve the readability and consistency of Python code.\n",
    "\n"
   ]
  },
  {
   "cell_type": "markdown",
   "id": "45cbf078-e90c-444a-932e-25ae92220183",
   "metadata": {},
   "source": [
    "7.\tWhat is pip and how pip works?"
   ]
  },
  {
   "cell_type": "markdown",
   "id": "bd60118c-4f68-4f27-821c-687527b0743f",
   "metadata": {},
   "source": [
    "pip is the package installer for Python. It's a command-line tool that allows users to install, uninstall, \n",
    "and manage Python packages from the Python Package Index (PyPI)\n",
    "\n",
    "\n",
    "A: PIP stands for “PIP Installs Packages.” It is the package installer for Python, \n",
    "used to download and manage Python packages from the Python Package Index \n",
    "(PyPI) or other package repositories.\r\n"
   ]
  },
  {
   "cell_type": "markdown",
   "id": "0b71eae2-876d-4e9c-9ca4-afc1a7ce4a0b",
   "metadata": {},
   "source": [
    "8.\tDifference between list and tuple?"
   ]
  },
  {
   "cell_type": "markdown",
   "id": "9b5a4697-0d89-4e96-85cc-2a2ddd00b8e4",
   "metadata": {},
   "source": [
    "The primary difference between tuples and lists is that tuples are immutable as opposed to lists which are mutable. \n",
    "Therefore, it is possible to change a list but not a tuple. \n",
    "The contents of a tuple cannot change once they have been created in Python due to the immutability of tuples.\n"
   ]
  },
  {
   "cell_type": "markdown",
   "id": "c9859291-41aa-43cd-aa41-0eb6f9842b5e",
   "metadata": {},
   "source": [
    "9.\tHow do we define function?"
   ]
  },
  {
   "cell_type": "markdown",
   "id": "685d3817-ba15-4ffb-893b-4a823495849c",
   "metadata": {},
   "source": [
    "A function is defined as a relation between a set of inputs having one output each. \n",
    "In simple words, a function is a relationship between inputs where each input is related to exactly one output. \n",
    "Every function has a domain and codomain or range. A function is generally denoted by f(x) where x is the input.\n"
   ]
  },
  {
   "cell_type": "markdown",
   "id": "127e26f8-90bd-41d7-aaff-39d40db94eb8",
   "metadata": {},
   "source": [
    "10.\t*args , **kwargs, positional argument  explain ?"
   ]
  },
  {
   "cell_type": "raw",
   "id": "04273911-9bb8-4885-8337-bccb3bf936be",
   "metadata": {},
   "source": [
    "1. '*args' (Arbitrary Positional Arguments):\n",
    "\n",
    "    . '*args' allows you to pass a variable number of positional arguments to a function. The args parameter is preceded by an asterisk '*', \n",
    "      which collects any extra positional arguments into a tuple.\n",
    "    . You can use '*args' when you're not sure how many positional arguments will be passed to your function, \n",
    "      or when you want to accept multiple positional arguments without explicitly naming them.\n",
    "    . Inside the function, you can treat args as a tuple and iterate over its elements or access them by index."
   ]
  },
  {
   "cell_type": "code",
   "execution_count": 1,
   "id": "a87abdc7-7b81-4e8b-bd4a-488879dbf40a",
   "metadata": {},
   "outputs": [
    {
     "name": "stdout",
     "output_type": "stream",
     "text": [
      "apple\n",
      "banana\n",
      "orange\n"
     ]
    }
   ],
   "source": [
    "def print_arguments(*args):\n",
    "    for arg in args:\n",
    "        print(arg)\n",
    "\n",
    "print_arguments('apple', 'banana', 'orange')"
   ]
  },
  {
   "cell_type": "markdown",
   "id": "83d89dce-d1a0-4863-bc50-7dd73211becf",
   "metadata": {},
   "source": [
    "2. **kwargs (Arbitrary Keyword Arguments):\n",
    "    . '**kwargs' allows you to pass a variable number of keyword arguments (or named arguments) to a function. \n",
    "      The kwargs parameter is preceded by two asterisks '**', which collects any extra keyword arguments \n",
    "      into a dictionary where the keys are the argument names.\n",
    "    . You can use '**kwargs' when you want to accept multiple keyword arguments without explicitly defining their names or \n",
    "      when you're not sure what keyword arguments will be passed to your function.\n",
    "    . Inside the function, you can treat kwargs as a dictionary and access its elements by key."
   ]
  },
  {
   "cell_type": "code",
   "execution_count": 2,
   "id": "98410fe1-0c0f-481d-b116-79d71929219b",
   "metadata": {},
   "outputs": [
    {
     "name": "stdout",
     "output_type": "stream",
     "text": [
      "name: Alice\n",
      "age: 30\n",
      "city: New York\n"
     ]
    }
   ],
   "source": [
    "def print_kwargs(**kwargs):\n",
    "    for key, value in kwargs.items():\n",
    "        print(f\"{key}: {value}\")\n",
    "\n",
    "print_kwargs(name='Alice', age=30, city='New York')"
   ]
  },
  {
   "cell_type": "markdown",
   "id": "fb0e596e-e99e-4c20-a771-e52d5669ac63",
   "metadata": {},
   "source": [
    "3. Positional Arguments:\n",
    "   .  Positional arguments are the regular arguments passed to a function in the order they're defined.\n",
    "   .  They are assigned to parameters based on their position in the function definition.\n",
    "   .  Positional arguments are mandatory unless they have default values.\n"
   ]
  },
  {
   "cell_type": "code",
   "execution_count": 4,
   "id": "f15bc5fc-2a3a-4682-83b9-a7d01b5b80d3",
   "metadata": {},
   "outputs": [
    {
     "name": "stdout",
     "output_type": "stream",
     "text": [
      "Hello, Awdhesh How are you?\n"
     ]
    }
   ],
   "source": [
    "def greet(name, message):\n",
    "    print(f\"Hello, {name} {message}\")\n",
    "\n",
    "greet('Awdhesh', 'How are you?')\n"
   ]
  },
  {
   "cell_type": "markdown",
   "id": "9e8d7ae9-2057-4f2b-b541-fb185c98adea",
   "metadata": {},
   "source": [
    "11.\tWhat is shallow copy and deep copy explain?  "
   ]
  },
  {
   "cell_type": "markdown",
   "id": "ae64b196-bbfe-46b3-b8d8-68b4a8a1e035",
   "metadata": {},
   "source": [
    "1. Shallow Copy: \n",
    "    Shallow repetition is quicker. However, it’s “lazy” it handles pointers and references. \n",
    "    Rather than creating a contemporary copy of the particular knowledge the pointer points to, it simply copies over the pointer price. \n",
    "    So, each of the first and therefore the copy can have pointers that reference constant underlying knowledge."
   ]
  },
  {
   "cell_type": "markdown",
   "id": "a3cc531c-b418-4b6c-9800-3bd40b480b7f",
   "metadata": {},
   "source": [
    "2. Deep Copy: \n",
    "    Deep repetition truly clones the underlying data. It is not shared between the first and therefore the copy."
   ]
  },
  {
   "cell_type": "markdown",
   "id": "f34ab99f-5858-4a09-b3fa-c178cde4b199",
   "metadata": {},
   "source": [
    "12.\tWhat is path and environment variable ?"
   ]
  },
  {
   "cell_type": "code",
   "execution_count": null,
   "id": "8d4fe57d-3285-4c15-9902-3b72335562c4",
   "metadata": {},
   "outputs": [],
   "source": []
  }
 ],
 "metadata": {
  "kernelspec": {
   "display_name": "Python 3 (ipykernel)",
   "language": "python",
   "name": "python3"
  },
  "language_info": {
   "codemirror_mode": {
    "name": "ipython",
    "version": 3
   },
   "file_extension": ".py",
   "mimetype": "text/x-python",
   "name": "python",
   "nbconvert_exporter": "python",
   "pygments_lexer": "ipython3",
   "version": "3.11.7"
  }
 },
 "nbformat": 4,
 "nbformat_minor": 5
}

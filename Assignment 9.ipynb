{
 "cells": [
  {
   "cell_type": "markdown",
   "id": "89b797b2-d0cd-40de-be12-e360aaf4512b",
   "metadata": {},
   "source": [
    "# 1. To what does a relative path refer?"
   ]
  },
  {
   "cell_type": "markdown",
   "id": "29ee57c5-0664-4491-be3d-727260287000",
   "metadata": {},
   "source": [
    "A relative path refers to the location of a file or directory relative to the current working \n",
    "directory or another reference point. It specifies the path to a file or directory in relation \n",
    "to a starting point, rather than starting from the root directory of the file system."
   ]
  },
  {
   "cell_type": "markdown",
   "id": "13c57a6f-d7c9-437d-bc3d-ca258471fadb",
   "metadata": {},
   "source": [
    "# 2. What does an absolute path start with your operating system?"
   ]
  },
  {
   "cell_type": "markdown",
   "id": "3dc0c740-8c25-42cd-955d-06543466f63d",
   "metadata": {},
   "source": [
    "An absolute path starts with the root directory of the file system in your operating system."
   ]
  },
  {
   "cell_type": "markdown",
   "id": "d7f42ed2-ea3f-47bc-b046-7577863082af",
   "metadata": {},
   "source": [
    "On Windows systems, the root directory of the current drive is denoted by the drive letter followed \n",
    "by a colon (':') and a backslash ('\\'). For example: \"C:\\User\\Documents\\file.txt.\""
   ]
  },
  {
   "cell_type": "markdown",
   "id": "e25ec29c-6448-4c42-8a6c-b9d0dc6bd48a",
   "metadata": {},
   "source": [
    "An absolute path specifies the complete path to a file or directory starting from the root directory, \n",
    "providing the full location information without relying on any current working directory."
   ]
  },
  {
   "cell_type": "markdown",
   "id": "c50a9093-5f6d-4fda-9253-4b99122f703e",
   "metadata": {},
   "source": [
    "# 3. What do the functions os.getcwd() and os.chdir() do?"
   ]
  },
  {
   "cell_type": "markdown",
   "id": "bc0d353c-2ce9-4221-b941-5f5cdf26db39",
   "metadata": {},
   "source": [
    "The functions os.getcwd() and os.chdir() are part of the os module in Python and are used \n",
    "for working with file paths and directories."
   ]
  },
  {
   "cell_type": "markdown",
   "id": "c9566b5b-92f0-4b38-8625-580a15879b9f",
   "metadata": {},
   "source": [
    "# 4. What are the . and .. folders?"
   ]
  },
  {
   "cell_type": "markdown",
   "id": "e1c1f757-94cf-49e2-962e-58584ebca58b",
   "metadata": {},
   "source": [
    "\".\" is the current directory.\n",
    "\n",
    "\"..\" is the parent directory.\n",
    "\n",
    "This is the same as Unix systems. From your output it looks like Windows is treating them as files.\n",
    "\n",
    "In the past I've used the \".\" to make sure that the command (what ever it might be) finds the file in \n",
    "the current directory. The following two statements should be identical:"
   ]
  },
  {
   "cell_type": "markdown",
   "id": "1cfe0542-d347-4290-b041-72426574ac7d",
   "metadata": {},
   "source": []
  },
  {
   "cell_type": "markdown",
   "id": "f3e87d96-9e1a-47af-9096-f98128272a58",
   "metadata": {},
   "source": [
    "In a file system, . and .. are special directory entries."
   ]
  },
  {
   "cell_type": "markdown",
   "id": "510511ac-c51e-40df-8e45-616f6845b5e2",
   "metadata": {},
   "source": [
    "\".\" (dot):\n",
    "    This represents the current directory. When used in a file path, it refers to the directory \n",
    "    in which the reference is made."
   ]
  },
  {
   "cell_type": "markdown",
   "id": "3ff9ae29-18b4-4777-81e1-61ccbea32cb9",
   "metadata": {},
   "source": [
    "\"..\" (dot dot):\n",
    "    This represents the parent directory of the current directory. When used in a file path, it refers to \n",
    "    the directory one level above the current directory."
   ]
  },
  {
   "cell_type": "markdown",
   "id": "0ac1e181-0792-4650-a83a-3691292e7efb",
   "metadata": {},
   "source": [
    "These special directory entries are used for navigation within the file system. They are particularly useful \n",
    "in command-line interfaces and programming when specifying paths to files and directories."
   ]
  },
  {
   "cell_type": "markdown",
   "id": "b97782d5-a4cd-4c5e-bd61-6183b61a4cf4",
   "metadata": {},
   "source": [
    "# 5. In C:\\bacon\\eggs\\spam.txt, which part is the dir name, and which part is the base name?"
   ]
  },
  {
   "cell_type": "markdown",
   "id": "c34a7e82-b9ba-4e80-94f8-022f827df4ff",
   "metadata": {},
   "source": [
    "In the file path \"C:\\bacon\\eggs\\spam.txt\":\n",
    "    Directory name: \"C:\\bacon\\eggs\"\n",
    "    Base name: \"spam.txt\""
   ]
  },
  {
   "cell_type": "markdown",
   "id": "4db2ccf3-8dd5-4fc2-8986-19c381116b75",
   "metadata": {},
   "source": [
    "# 6. What are the three “mode” arguments that can be passed to the open() function?"
   ]
  },
  {
   "cell_type": "code",
   "execution_count": null,
   "id": "b4e8c547-771a-4952-a840-bdd29150aed2",
   "metadata": {},
   "outputs": [],
   "source": [
    "Mode\tDescription\n",
    "'r'\t    Open a file for reading. (default)\n",
    "'w'\t    Open a file for writing. Creates a new file if it does not exist or truncates the file if it exists.\n",
    "'x'\t    Open a file for exclusive creation. If the file already exists, the operation fails.\n",
    "'a'\t    Open for appending at the end of the file without truncating it. Creates a new file if it does not exist.\n",
    "'t'\t    Open in text mode. (default)\n",
    "'b'\t    Open in binary mode.\n",
    "'+'\t    Open a file for updating (reading and writing)     "
   ]
  },
  {
   "cell_type": "markdown",
   "id": "b663571a-5909-4cc7-b939-2b8d40dc6b7e",
   "metadata": {},
   "source": [
    "These mode arguments can be combined with other mode modifiers, such as 'b' for binary mode \n",
    "('rb', 'wb', 'ab'), or '+' for reading and writing ('r+', 'w+', 'a+')."
   ]
  },
  {
   "cell_type": "markdown",
   "id": "91110bdb-0c19-45db-8ae3-1bf9e6440f79",
   "metadata": {},
   "source": [
    "# 7. What happens if an existing file is opened in write mode?"
   ]
  },
  {
   "cell_type": "markdown",
   "id": "a05f37a2-5d38-48e3-bf79-369f92b264f7",
   "metadata": {},
   "source": [
    "If an existing file is opened in write mode ('w') using the open() function in Python, the file's \n",
    "existing contents will be completely overwritten. If the file doesn't exist, a new file will be created."
   ]
  },
  {
   "cell_type": "markdown",
   "id": "b9b03ce6-b61f-4327-b749-fe40bf7dde12",
   "metadata": {},
   "source": [
    "# 8. How do you tell the difference between read() and readlines()?"
   ]
  },
  {
   "cell_type": "markdown",
   "id": "7c738811-bffd-4e81-b05d-aaba0067dcd6",
   "metadata": {},
   "source": [
    "In Python's file handling, both read() and readlines() are methods used to read data \n",
    "from a file, but they operate differently:"
   ]
  },
  {
   "cell_type": "markdown",
   "id": "2cb13d69-69dd-4d47-bd0f-d6ab40cc497c",
   "metadata": {},
   "source": [
    "\"read()\": This method reads the entire contents of the file as a single string, including newline characters (\"\\n\"). \n",
    "It reads from the current position of the file pointer until the end of the file.\n",
    "\n",
    "with open('file.txt', 'r') as f:\r\n",
    "    content = f.read(\r\n"
   ]
  },
  {
   "cell_type": "markdown",
   "id": "ab01756e-b3c1-466f-a467-e9a966a68b09",
   "metadata": {},
   "source": [
    "\"readlines()\": This method reads all lines of the file into a list. Each line of the file is represented \n",
    "as a separate string element in the list, with the newline character (\"\\n\") included at the end of each line. \n",
    "It reads from the current position of the file pointer until the end of the file.\n",
    "\n",
    "with open('file.txt', 'r') as f:\n",
    "    lines = f.readlines()"
   ]
  },
  {
   "cell_type": "markdown",
   "id": "b42c573e-9807-4c19-a70b-2a01b0fcab62",
   "metadata": {},
   "source": [
    "\"read()\": returns the entire file content as a single string.\n",
    "\"readlines()\": returns a list of strings, each representing a line in the file."
   ]
  },
  {
   "cell_type": "markdown",
   "id": "5c376832-2730-48c2-a19d-88b05d26199a",
   "metadata": {},
   "source": [
    "# 9. What data structure does a shelf value resemble?"
   ]
  },
  {
   "cell_type": "markdown",
   "id": "18ae0347-2748-47dc-8077-7bd32e42d1ed",
   "metadata": {},
   "source": [
    "What data structure does a shelf value resemble? A shelf value resembles a dictionary value; \n",
    "it has keys and values, along with keys() and values() methods that work similarly to the dictionary \n",
    "methods of the same names."
   ]
  },
  {
   "cell_type": "code",
   "execution_count": null,
   "id": "b43dfb66-c204-488e-88f4-72b99f839f53",
   "metadata": {},
   "outputs": [],
   "source": []
  }
 ],
 "metadata": {
  "kernelspec": {
   "display_name": "Python 3 (ipykernel)",
   "language": "python",
   "name": "python3"
  },
  "language_info": {
   "codemirror_mode": {
    "name": "ipython",
    "version": 3
   },
   "file_extension": ".py",
   "mimetype": "text/x-python",
   "name": "python",
   "nbconvert_exporter": "python",
   "pygments_lexer": "ipython3",
   "version": "3.11.7"
  }
 },
 "nbformat": 4,
 "nbformat_minor": 5
}

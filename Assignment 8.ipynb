{
 "cells": [
  {
   "cell_type": "markdown",
   "id": "6dcc9a1a-c51f-4928-b880-81f19637327a",
   "metadata": {},
   "source": [
    "# 1. Is the Python Standard Library included with PyInputPlus?"
   ]
  },
  {
   "cell_type": "markdown",
   "id": "45c29de7-4e59-47a1-8cbd-6e2dba4e6836",
   "metadata": {},
   "source": [
    "Ans. PyInputPlus is not a part of the Python Standard Library, so you must install it separately using Pip"
   ]
  },
  {
   "cell_type": "markdown",
   "id": "ceca2921-cb71-4634-aa93-de7322185ba4",
   "metadata": {},
   "source": [
    "# pip install pyinputplus"
   ]
  },
  {
   "cell_type": "markdown",
   "id": "db7bc2da-389e-43c8-82d5-8256ff030f05",
   "metadata": {},
   "source": [
    "2. Why is PyInputPlus commonly imported with import pyinputplus as pypi?"
   ]
  },
  {
   "cell_type": "markdown",
   "id": "5a54794f-cb87-4713-9eed-64295cc2edcc",
   "metadata": {},
   "source": [
    "Ans. pypi is alias of PyInputPlus. The as pyip code in the import statement saves us from typing pyinputplus \n",
    "each time we want to call a PyInputPlus function. Instead we can use the shorter pyip name\n"
   ]
  },
  {
   "cell_type": "markdown",
   "id": "2ab98fee-f414-427d-bd8d-473456665ef9",
   "metadata": {},
   "source": [
    "Using import pyinputplus as pypi allows developers to alias the pyinputplus module to a shorter name \n",
    "(pypi in this case) for brevity and convenience. This practice is common in programming to reduce the \n",
    "amount of typing needed when accessing functions or classes from the imported module. Instead of typing \n",
    "pyinputplus.some_function(), you can simply write pypi.some_function(), which can save keystrokes and make \n",
    "the code more readable. The choice of alias (pypi in this case) is arbitrary and can be anything the developer\n",
    "prefers."
   ]
  },
  {
   "cell_type": "markdown",
   "id": "1bfc565c-09c3-4b3c-aa66-0ab6efbfb57e",
   "metadata": {},
   "source": [
    "# 3. How do you distinguish between inputInt() and inputFloat()?"
   ]
  },
  {
   "cell_type": "markdown",
   "id": "2f680c9f-68b4-45b8-95c7-5163addbc1cb",
   "metadata": {},
   "source": [
    "Ans. inputInt() : Accepts an integer value, and returns int value\n",
    "inputFloat() : Accepts integer/floating point value and returns float value"
   ]
  },
  {
   "cell_type": "markdown",
   "id": "1e26a46d-d950-47b4-b21f-bc11f1c41778",
   "metadata": {},
   "source": [
    "import pyinputplus as pyip\n",
    "pyip.inputInt()\n",
    "pyip.inputFloat()"
   ]
  },
  {
   "cell_type": "markdown",
   "id": "5135d406-998e-4b5b-ab9f-4e846fb80d0d",
   "metadata": {},
   "source": [
    "# 4. Using PyInputPlus, how do you ensure that the user enters a whole number between 0 and 99?"
   ]
  },
  {
   "cell_type": "markdown",
   "id": "16d9666a-b115-470c-b15d-a2a6d5778e52",
   "metadata": {},
   "source": [
    "Ans. In the inputint function we can set the min = 0 and max =99 to ensure user enters number between 0 and 99"
   ]
  },
  {
   "cell_type": "markdown",
   "id": "353a92ea-268e-4c93-9259-baff5849e823",
   "metadata": {},
   "source": [
    "pyip.inputInt(min = 0, max =99)"
   ]
  },
  {
   "cell_type": "markdown",
   "id": "88627eb4-aca0-4b2d-a4b4-d5dfaf1c1c57",
   "metadata": {},
   "source": [
    "# 5. What is transferred to the keyword arguments allowRegexes and blockRegexes?"
   ]
  },
  {
   "cell_type": "markdown",
   "id": "041a0791-145b-417b-839b-4c6ae723ca4f",
   "metadata": {},
   "source": [
    "Ans. We can also use regular expressions to specify whether an input is allowed or not. The allowRegexes and \n",
    "blockRegexes keyword arguments take a list of regular expression strings to determine what the PyInputPlus \n",
    "function will accept or reject as valid input.\n"
   ]
  },
  {
   "cell_type": "markdown",
   "id": "d85c45da-86ad-4b51-8313-75330b12b31e",
   "metadata": {},
   "source": [
    "response = pyip.inputNum(allowRegexes=[r'(I|V|X|L|C|D|M)+', r'zero']) # it allowes roman letters as numbers too"
   ]
  },
  {
   "cell_type": "markdown",
   "id": "c6a01a9d-4a6d-49c5-bdd4-18a3efa711ec",
   "metadata": {},
   "source": [
    "response = pyip.inputNum(blockRegexes=[r'[02468]$'])# blocks the even numbers"
   ]
  },
  {
   "cell_type": "markdown",
   "id": "099aa8df-bf96-4be2-acee-a8205079c423",
   "metadata": {},
   "source": []
  },
  {
   "cell_type": "markdown",
   "id": "9221b6d8-7493-4686-b087-4bff95e911ed",
   "metadata": {},
   "source": [
    "In the provided code snippet, pyip.inputNum() function is being used with the allowRegexes keyword argument to \n",
    "allow input that matches either a regular expression representing Roman numerals ((I|V|X|L|C|D|M)+) or the word \"zero\".\n",
    "\n",
    "This means that the user can input either Roman numerals (e.g., \"IV\", \"XVIII\") or the word \n",
    "\"zero\" as valid input. PyInputPlus will accept any input that matches either of these patterns.\n",
    "\n",
    "Here's how the code snippet works:\n"
   ]
  },
  {
   "cell_type": "markdown",
   "id": "c0a6e3c7-4d1a-459d-8357-0fdebaa69432",
   "metadata": {},
   "source": [
    "import pyinputplus as pyip\n",
    "\n",
    "# Prompt the user for input, allowing Roman numerals or the word \"zero\"\n",
    "response = pyip.inputNum(allowRegexes=[r'(I|V|X|L|C|D|M)+', r'zero'])\n",
    "\n",
    "print(\"User input:\", response)\n"
   ]
  },
  {
   "cell_type": "markdown",
   "id": "d88b3783-7dea-4385-90e7-038188bcc016",
   "metadata": {},
   "source": [
    "With this setup, PyInputPlus will accept inputs such as \"IV\", \"X\", \"zero\", but it will reject inputs like \n",
    "\"abc\" or \"123\" since they do not match the specified patterns.\n"
   ]
  },
  {
   "cell_type": "markdown",
   "id": "3cf20063-0fda-4b3e-8f64-8d8edafa1c84",
   "metadata": {},
   "source": [
    "# 6. If a blank input is entered three times, what does inputStr(limit=3) do?"
   ]
  },
  {
   "cell_type": "markdown",
   "id": "acbc53d4-82b7-40e6-9482-e9dd560b62f5",
   "metadata": {},
   "source": [
    "If a blank input is entered three times, what does inputStr(limit=3) do? Ans. It will throw RetryLimitException exception."
   ]
  },
  {
   "cell_type": "markdown",
   "id": "d582d1c1-bf0d-40b6-af71-e4f6169ff1d3",
   "metadata": {},
   "source": [
    "# 7. If blank input is entered three times, what does inputStr(limit=3, default='hello') do?"
   ]
  },
  {
   "cell_type": "markdown",
   "id": "5efecc20-80af-4b17-bdff-78dff1646dc3",
   "metadata": {},
   "source": [
    "If a blank input is entered three times while using 'inputStr(limit=3)', \n",
    "PyInputPlus will raise a pyinputplus.'RetryLimitException'."
   ]
  },
  {
   "cell_type": "code",
   "execution_count": null,
   "id": "c4a6a442-f764-4dec-b95d-f3ee35a40e03",
   "metadata": {},
   "outputs": [],
   "source": []
  }
 ],
 "metadata": {
  "kernelspec": {
   "display_name": "Python 3 (ipykernel)",
   "language": "python",
   "name": "python3"
  },
  "language_info": {
   "codemirror_mode": {
    "name": "ipython",
    "version": 3
   },
   "file_extension": ".py",
   "mimetype": "text/x-python",
   "name": "python",
   "nbconvert_exporter": "python",
   "pygments_lexer": "ipython3",
   "version": "3.11.7"
  }
 },
 "nbformat": 4,
 "nbformat_minor": 5
}
